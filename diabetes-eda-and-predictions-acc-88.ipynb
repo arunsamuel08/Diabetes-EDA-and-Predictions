{
 "cells": [
  {
   "cell_type": "code",
   "execution_count": 1,
   "id": "republican-testament",
   "metadata": {
    "_cell_guid": "b1076dfc-b9ad-4769-8c92-a6c4dae69d19",
    "_kg_hide-input": true,
    "_uuid": "8f2839f25d086af736a60e9eeb907d3b93b6e0e5",
    "execution": {
     "iopub.execute_input": "2021-06-22T19:19:35.404803Z",
     "iopub.status.busy": "2021-06-22T19:19:35.404188Z",
     "iopub.status.idle": "2021-06-22T19:19:35.412613Z",
     "shell.execute_reply": "2021-06-22T19:19:35.411916Z",
     "shell.execute_reply.started": "2021-06-22T18:42:22.498112Z"
    },
    "jupyter": {
     "source_hidden": true
    },
    "papermill": {
     "duration": 0.082858,
     "end_time": "2021-06-22T19:19:35.412763",
     "exception": false,
     "start_time": "2021-06-22T19:19:35.329905",
     "status": "completed"
    },
    "tags": []
   },
   "outputs": [
    {
     "name": "stdout",
     "output_type": "stream",
     "text": [
      "/kaggle/input/pima-indians-diabetes-database/diabetes.csv\n"
     ]
    }
   ],
   "source": [
    "# This Python 3 environment comes with many helpful analytics libraries installed\n",
    "# It is defined by the kaggle/python Docker image: https://github.com/kaggle/docker-python\n",
    "# For example, here's several helpful packages to load\n",
    "\n",
    "import numpy as np # linear algebra\n",
    "import pandas as pd # data processing, CSV file I/O (e.g. pd.read_csv)\n",
    "\n",
    "# Input data files are available in the read-only \"../input/\" directory\n",
    "# For example, running this (by clicking run or pressing Shift+Enter) will list all files under the input directory\n",
    "\n",
    "import os\n",
    "for dirname, _, filenames in os.walk('/kaggle/input'):\n",
    "    for filename in filenames:\n",
    "        print(os.path.join(dirname, filename))\n",
    "\n",
    "# You can write up to 20GB to the current directory (/kaggle/working/) that gets preserved as output when you create a version using \"Save & Run All\" \n",
    "# You can also write temporary files to /kaggle/temp/, but they won't be saved outside of the current session"
   ]
  },
  {
   "cell_type": "markdown",
   "id": "activated-lithuania",
   "metadata": {
    "papermill": {
     "duration": 0.06312,
     "end_time": "2021-06-22T19:19:35.539512",
     "exception": false,
     "start_time": "2021-06-22T19:19:35.476392",
     "status": "completed"
    },
    "tags": []
   },
   "source": [
    "<h1 style=\"font-family: 'Poppins', sans-serif; font-size:36px; text-align: center; color: #282B28\">Diabetes EDA and Predictions</h1>"
   ]
  },
  {
   "cell_type": "markdown",
   "id": "incorporate-advice",
   "metadata": {
    "papermill": {
     "duration": 0.065828,
     "end_time": "2021-06-22T19:19:35.669049",
     "exception": false,
     "start_time": "2021-06-22T19:19:35.603221",
     "status": "completed"
    },
    "tags": []
   },
   "source": [
    "<div style=\"display: flex; flex-direction: column; justify-content: center; align-items: center;\">\n",
    "    <img style=\"height: 200px; width: auto;\" src=\"https://www.idf.org/images/site1/content/Blue-circle.jpg\"/>\n",
    "</div>"
   ]
  },
  {
   "cell_type": "markdown",
   "id": "refined-response",
   "metadata": {
    "papermill": {
     "duration": 0.064169,
     "end_time": "2021-06-22T19:19:35.798822",
     "exception": false,
     "start_time": "2021-06-22T19:19:35.734653",
     "status": "completed"
    },
    "tags": []
   },
   "source": [
    "<a href=#section1 style=\"font-family: 'Poppins', sans-serif; font-size:16px;\">1. Introduction</a><br>\n",
    "<a href=\"#section2\" style=\"font-family: 'Poppins', sans-serif; font-size:16px;\">2. Exploratory Data Analysis</a><br>\n",
    "<a href=\"#section3\" style=\"font-family: 'Poppins', sans-serif; font-size:16px;\">3. Data Preprocessing</a><br>\n",
    "<a href=\"#section4\" style=\"font-family: 'Poppins', sans-serif; font-size:16px;\">4. Classification Models</a><br>\n",
    "<a href=\"#section5\" style=\"font-family: 'Poppins', sans-serif; font-size:16px;\">5. Results</a><br>"
   ]
  },
  {
   "cell_type": "markdown",
   "id": "corporate-briefing",
   "metadata": {
    "papermill": {
     "duration": 0.064003,
     "end_time": "2021-06-22T19:19:35.926858",
     "exception": false,
     "start_time": "2021-06-22T19:19:35.862855",
     "status": "completed"
    },
    "tags": []
   },
   "source": [
    "<a id=\"section1\"></a>\n",
    "<h1 style=\"font-family: 'Poppins', sans-serif; font-size: 24px; text-align: left; color: #176087\">Introduction</h1>"
   ]
  },
  {
   "cell_type": "markdown",
   "id": "least-holly",
   "metadata": {
    "papermill": {
     "duration": 0.061924,
     "end_time": "2021-06-22T19:19:36.051446",
     "exception": false,
     "start_time": "2021-06-22T19:19:35.989522",
     "status": "completed"
    },
    "tags": []
   },
   "source": [
    "<p style=\"font-family: 'Poppins', sans-serif; font-size:18px;\">Diabetes mellitus, commonly known as diabetes is a metabolic disease that causes high blood sugar. The hormone insulin moves sugar from the blood into your cells to be stored or used for energy. With diabetes, your body either doesn’t make enough insulin or can’t effectively use the insulin it does make.<br><br>Untreated high blood sugar from diabetes can damage your nerves, eyes, kidneys, and other organs.<br><br>Blood Sugar level less than 140mg/dL is normal.<br>A reading of more than 200mg/dL after two hours indicates diabetes.<br>A reading between 140 and 199mg/dL indicates prediabetes.\n",
    "</p>"
   ]
  },
  {
   "cell_type": "markdown",
   "id": "exact-rachel",
   "metadata": {
    "papermill": {
     "duration": 0.064532,
     "end_time": "2021-06-22T19:19:36.178705",
     "exception": false,
     "start_time": "2021-06-22T19:19:36.114173",
     "status": "completed"
    },
    "tags": []
   },
   "source": [
    "<a id=\"section2\"></a>\n",
    "<h1 style=\"font-family: 'Poppins', sans-serif; font-size: 28px; text-align: left; color: #176087; background-color: #FDF0D5; padding: 25px; border-radius: 10px;\">1. Exploratory Data Analysis</h1>"
   ]
  },
  {
   "cell_type": "code",
   "execution_count": 2,
   "id": "previous-genome",
   "metadata": {
    "execution": {
     "iopub.execute_input": "2021-06-22T19:19:36.311273Z",
     "iopub.status.busy": "2021-06-22T19:19:36.310616Z",
     "iopub.status.idle": "2021-06-22T19:19:37.071207Z",
     "shell.execute_reply": "2021-06-22T19:19:37.070228Z",
     "shell.execute_reply.started": "2021-06-22T18:42:22.513188Z"
    },
    "papermill": {
     "duration": 0.830324,
     "end_time": "2021-06-22T19:19:37.071348",
     "exception": false,
     "start_time": "2021-06-22T19:19:36.241024",
     "status": "completed"
    },
    "tags": []
   },
   "outputs": [],
   "source": [
    "import numpy as np\n",
    "import pandas as pd\n",
    "import matplotlib.pyplot as plt\n",
    "import seaborn as sns\n",
    "%matplotlib inline\n",
    "import warnings\n",
    "warnings.filterwarnings(\"ignore\")"
   ]
  },
  {
   "cell_type": "code",
   "execution_count": 3,
   "id": "published-success",
   "metadata": {
    "execution": {
     "iopub.execute_input": "2021-06-22T19:19:37.199262Z",
     "iopub.status.busy": "2021-06-22T19:19:37.198343Z",
     "iopub.status.idle": "2021-06-22T19:19:37.212683Z",
     "shell.execute_reply": "2021-06-22T19:19:37.213156Z",
     "shell.execute_reply.started": "2021-06-22T18:42:22.527094Z"
    },
    "papermill": {
     "duration": 0.079696,
     "end_time": "2021-06-22T19:19:37.213331",
     "exception": false,
     "start_time": "2021-06-22T19:19:37.133635",
     "status": "completed"
    },
    "tags": []
   },
   "outputs": [],
   "source": [
    "df = pd.read_csv(\"/kaggle/input/pima-indians-diabetes-database/diabetes.csv\")"
   ]
  },
  {
   "cell_type": "code",
   "execution_count": 4,
   "id": "extreme-doctor",
   "metadata": {
    "execution": {
     "iopub.execute_input": "2021-06-22T19:19:37.340277Z",
     "iopub.status.busy": "2021-06-22T19:19:37.339441Z",
     "iopub.status.idle": "2021-06-22T19:19:37.365803Z",
     "shell.execute_reply": "2021-06-22T19:19:37.366274Z",
     "shell.execute_reply.started": "2021-06-22T18:42:22.546546Z"
    },
    "papermill": {
     "duration": 0.091077,
     "end_time": "2021-06-22T19:19:37.366434",
     "exception": false,
     "start_time": "2021-06-22T19:19:37.275357",
     "status": "completed"
    },
    "tags": []
   },
   "outputs": [
    {
     "data": {
      "text/html": [
       "<div>\n",
       "<style scoped>\n",
       "    .dataframe tbody tr th:only-of-type {\n",
       "        vertical-align: middle;\n",
       "    }\n",
       "\n",
       "    .dataframe tbody tr th {\n",
       "        vertical-align: top;\n",
       "    }\n",
       "\n",
       "    .dataframe thead th {\n",
       "        text-align: right;\n",
       "    }\n",
       "</style>\n",
       "<table border=\"1\" class=\"dataframe\">\n",
       "  <thead>\n",
       "    <tr style=\"text-align: right;\">\n",
       "      <th></th>\n",
       "      <th>Pregnancies</th>\n",
       "      <th>Glucose</th>\n",
       "      <th>BloodPressure</th>\n",
       "      <th>SkinThickness</th>\n",
       "      <th>Insulin</th>\n",
       "      <th>BMI</th>\n",
       "      <th>DiabetesPedigreeFunction</th>\n",
       "      <th>Age</th>\n",
       "      <th>Outcome</th>\n",
       "    </tr>\n",
       "  </thead>\n",
       "  <tbody>\n",
       "    <tr>\n",
       "      <th>0</th>\n",
       "      <td>6</td>\n",
       "      <td>148</td>\n",
       "      <td>72</td>\n",
       "      <td>35</td>\n",
       "      <td>0</td>\n",
       "      <td>33.6</td>\n",
       "      <td>0.627</td>\n",
       "      <td>50</td>\n",
       "      <td>1</td>\n",
       "    </tr>\n",
       "    <tr>\n",
       "      <th>1</th>\n",
       "      <td>1</td>\n",
       "      <td>85</td>\n",
       "      <td>66</td>\n",
       "      <td>29</td>\n",
       "      <td>0</td>\n",
       "      <td>26.6</td>\n",
       "      <td>0.351</td>\n",
       "      <td>31</td>\n",
       "      <td>0</td>\n",
       "    </tr>\n",
       "    <tr>\n",
       "      <th>2</th>\n",
       "      <td>8</td>\n",
       "      <td>183</td>\n",
       "      <td>64</td>\n",
       "      <td>0</td>\n",
       "      <td>0</td>\n",
       "      <td>23.3</td>\n",
       "      <td>0.672</td>\n",
       "      <td>32</td>\n",
       "      <td>1</td>\n",
       "    </tr>\n",
       "    <tr>\n",
       "      <th>3</th>\n",
       "      <td>1</td>\n",
       "      <td>89</td>\n",
       "      <td>66</td>\n",
       "      <td>23</td>\n",
       "      <td>94</td>\n",
       "      <td>28.1</td>\n",
       "      <td>0.167</td>\n",
       "      <td>21</td>\n",
       "      <td>0</td>\n",
       "    </tr>\n",
       "    <tr>\n",
       "      <th>4</th>\n",
       "      <td>0</td>\n",
       "      <td>137</td>\n",
       "      <td>40</td>\n",
       "      <td>35</td>\n",
       "      <td>168</td>\n",
       "      <td>43.1</td>\n",
       "      <td>2.288</td>\n",
       "      <td>33</td>\n",
       "      <td>1</td>\n",
       "    </tr>\n",
       "  </tbody>\n",
       "</table>\n",
       "</div>"
      ],
      "text/plain": [
       "   Pregnancies  Glucose  BloodPressure  SkinThickness  Insulin   BMI  \\\n",
       "0            6      148             72             35        0  33.6   \n",
       "1            1       85             66             29        0  26.6   \n",
       "2            8      183             64              0        0  23.3   \n",
       "3            1       89             66             23       94  28.1   \n",
       "4            0      137             40             35      168  43.1   \n",
       "\n",
       "   DiabetesPedigreeFunction  Age  Outcome  \n",
       "0                     0.627   50        1  \n",
       "1                     0.351   31        0  \n",
       "2                     0.672   32        1  \n",
       "3                     0.167   21        0  \n",
       "4                     2.288   33        1  "
      ]
     },
     "execution_count": 4,
     "metadata": {},
     "output_type": "execute_result"
    }
   ],
   "source": [
    "df.head()"
   ]
  },
  {
   "cell_type": "code",
   "execution_count": 5,
   "id": "mathematical-medicare",
   "metadata": {
    "execution": {
     "iopub.execute_input": "2021-06-22T19:19:37.495531Z",
     "iopub.status.busy": "2021-06-22T19:19:37.494631Z",
     "iopub.status.idle": "2021-06-22T19:19:37.533130Z",
     "shell.execute_reply": "2021-06-22T19:19:37.532652Z",
     "shell.execute_reply.started": "2021-06-22T18:42:22.568246Z"
    },
    "papermill": {
     "duration": 0.104476,
     "end_time": "2021-06-22T19:19:37.533254",
     "exception": false,
     "start_time": "2021-06-22T19:19:37.428778",
     "status": "completed"
    },
    "tags": []
   },
   "outputs": [
    {
     "data": {
      "text/html": [
       "<div>\n",
       "<style scoped>\n",
       "    .dataframe tbody tr th:only-of-type {\n",
       "        vertical-align: middle;\n",
       "    }\n",
       "\n",
       "    .dataframe tbody tr th {\n",
       "        vertical-align: top;\n",
       "    }\n",
       "\n",
       "    .dataframe thead th {\n",
       "        text-align: right;\n",
       "    }\n",
       "</style>\n",
       "<table border=\"1\" class=\"dataframe\">\n",
       "  <thead>\n",
       "    <tr style=\"text-align: right;\">\n",
       "      <th></th>\n",
       "      <th>Pregnancies</th>\n",
       "      <th>Glucose</th>\n",
       "      <th>BloodPressure</th>\n",
       "      <th>SkinThickness</th>\n",
       "      <th>Insulin</th>\n",
       "      <th>BMI</th>\n",
       "      <th>DiabetesPedigreeFunction</th>\n",
       "      <th>Age</th>\n",
       "      <th>Outcome</th>\n",
       "    </tr>\n",
       "  </thead>\n",
       "  <tbody>\n",
       "    <tr>\n",
       "      <th>count</th>\n",
       "      <td>768.000000</td>\n",
       "      <td>768.000000</td>\n",
       "      <td>768.000000</td>\n",
       "      <td>768.000000</td>\n",
       "      <td>768.000000</td>\n",
       "      <td>768.000000</td>\n",
       "      <td>768.000000</td>\n",
       "      <td>768.000000</td>\n",
       "      <td>768.000000</td>\n",
       "    </tr>\n",
       "    <tr>\n",
       "      <th>mean</th>\n",
       "      <td>3.845052</td>\n",
       "      <td>120.894531</td>\n",
       "      <td>69.105469</td>\n",
       "      <td>20.536458</td>\n",
       "      <td>79.799479</td>\n",
       "      <td>31.992578</td>\n",
       "      <td>0.471876</td>\n",
       "      <td>33.240885</td>\n",
       "      <td>0.348958</td>\n",
       "    </tr>\n",
       "    <tr>\n",
       "      <th>std</th>\n",
       "      <td>3.369578</td>\n",
       "      <td>31.972618</td>\n",
       "      <td>19.355807</td>\n",
       "      <td>15.952218</td>\n",
       "      <td>115.244002</td>\n",
       "      <td>7.884160</td>\n",
       "      <td>0.331329</td>\n",
       "      <td>11.760232</td>\n",
       "      <td>0.476951</td>\n",
       "    </tr>\n",
       "    <tr>\n",
       "      <th>min</th>\n",
       "      <td>0.000000</td>\n",
       "      <td>0.000000</td>\n",
       "      <td>0.000000</td>\n",
       "      <td>0.000000</td>\n",
       "      <td>0.000000</td>\n",
       "      <td>0.000000</td>\n",
       "      <td>0.078000</td>\n",
       "      <td>21.000000</td>\n",
       "      <td>0.000000</td>\n",
       "    </tr>\n",
       "    <tr>\n",
       "      <th>25%</th>\n",
       "      <td>1.000000</td>\n",
       "      <td>99.000000</td>\n",
       "      <td>62.000000</td>\n",
       "      <td>0.000000</td>\n",
       "      <td>0.000000</td>\n",
       "      <td>27.300000</td>\n",
       "      <td>0.243750</td>\n",
       "      <td>24.000000</td>\n",
       "      <td>0.000000</td>\n",
       "    </tr>\n",
       "    <tr>\n",
       "      <th>50%</th>\n",
       "      <td>3.000000</td>\n",
       "      <td>117.000000</td>\n",
       "      <td>72.000000</td>\n",
       "      <td>23.000000</td>\n",
       "      <td>30.500000</td>\n",
       "      <td>32.000000</td>\n",
       "      <td>0.372500</td>\n",
       "      <td>29.000000</td>\n",
       "      <td>0.000000</td>\n",
       "    </tr>\n",
       "    <tr>\n",
       "      <th>75%</th>\n",
       "      <td>6.000000</td>\n",
       "      <td>140.250000</td>\n",
       "      <td>80.000000</td>\n",
       "      <td>32.000000</td>\n",
       "      <td>127.250000</td>\n",
       "      <td>36.600000</td>\n",
       "      <td>0.626250</td>\n",
       "      <td>41.000000</td>\n",
       "      <td>1.000000</td>\n",
       "    </tr>\n",
       "    <tr>\n",
       "      <th>max</th>\n",
       "      <td>17.000000</td>\n",
       "      <td>199.000000</td>\n",
       "      <td>122.000000</td>\n",
       "      <td>99.000000</td>\n",
       "      <td>846.000000</td>\n",
       "      <td>67.100000</td>\n",
       "      <td>2.420000</td>\n",
       "      <td>81.000000</td>\n",
       "      <td>1.000000</td>\n",
       "    </tr>\n",
       "  </tbody>\n",
       "</table>\n",
       "</div>"
      ],
      "text/plain": [
       "       Pregnancies     Glucose  BloodPressure  SkinThickness     Insulin  \\\n",
       "count   768.000000  768.000000     768.000000     768.000000  768.000000   \n",
       "mean      3.845052  120.894531      69.105469      20.536458   79.799479   \n",
       "std       3.369578   31.972618      19.355807      15.952218  115.244002   \n",
       "min       0.000000    0.000000       0.000000       0.000000    0.000000   \n",
       "25%       1.000000   99.000000      62.000000       0.000000    0.000000   \n",
       "50%       3.000000  117.000000      72.000000      23.000000   30.500000   \n",
       "75%       6.000000  140.250000      80.000000      32.000000  127.250000   \n",
       "max      17.000000  199.000000     122.000000      99.000000  846.000000   \n",
       "\n",
       "              BMI  DiabetesPedigreeFunction         Age     Outcome  \n",
       "count  768.000000                768.000000  768.000000  768.000000  \n",
       "mean    31.992578                  0.471876   33.240885    0.348958  \n",
       "std      7.884160                  0.331329   11.760232    0.476951  \n",
       "min      0.000000                  0.078000   21.000000    0.000000  \n",
       "25%     27.300000                  0.243750   24.000000    0.000000  \n",
       "50%     32.000000                  0.372500   29.000000    0.000000  \n",
       "75%     36.600000                  0.626250   41.000000    1.000000  \n",
       "max     67.100000                  2.420000   81.000000    1.000000  "
      ]
     },
     "execution_count": 5,
     "metadata": {},
     "output_type": "execute_result"
    }
   ],
   "source": [
    "df.describe()"
   ]
  },
  {
   "cell_type": "code",
   "execution_count": 6,
   "id": "injured-samuel",
   "metadata": {
    "execution": {
     "iopub.execute_input": "2021-06-22T19:19:37.675351Z",
     "iopub.status.busy": "2021-06-22T19:19:37.674694Z",
     "iopub.status.idle": "2021-06-22T19:19:37.678560Z",
     "shell.execute_reply": "2021-06-22T19:19:37.677488Z",
     "shell.execute_reply.started": "2021-06-22T18:42:22.609981Z"
    },
    "papermill": {
     "duration": 0.082364,
     "end_time": "2021-06-22T19:19:37.678747",
     "exception": false,
     "start_time": "2021-06-22T19:19:37.596383",
     "status": "completed"
    },
    "tags": []
   },
   "outputs": [
    {
     "name": "stdout",
     "output_type": "stream",
     "text": [
      "<class 'pandas.core.frame.DataFrame'>\n",
      "RangeIndex: 768 entries, 0 to 767\n",
      "Data columns (total 9 columns):\n",
      " #   Column                    Non-Null Count  Dtype  \n",
      "---  ------                    --------------  -----  \n",
      " 0   Pregnancies               768 non-null    int64  \n",
      " 1   Glucose                   768 non-null    int64  \n",
      " 2   BloodPressure             768 non-null    int64  \n",
      " 3   SkinThickness             768 non-null    int64  \n",
      " 4   Insulin                   768 non-null    int64  \n",
      " 5   BMI                       768 non-null    float64\n",
      " 6   DiabetesPedigreeFunction  768 non-null    float64\n",
      " 7   Age                       768 non-null    int64  \n",
      " 8   Outcome                   768 non-null    int64  \n",
      "dtypes: float64(2), int64(7)\n",
      "memory usage: 54.1 KB\n"
     ]
    }
   ],
   "source": [
    "df.info()"
   ]
  },
  {
   "cell_type": "code",
   "execution_count": 7,
   "id": "secure-direction",
   "metadata": {
    "execution": {
     "iopub.execute_input": "2021-06-22T19:19:37.813018Z",
     "iopub.status.busy": "2021-06-22T19:19:37.812405Z",
     "iopub.status.idle": "2021-06-22T19:19:37.818908Z",
     "shell.execute_reply": "2021-06-22T19:19:37.819493Z",
     "shell.execute_reply.started": "2021-06-22T18:42:22.625275Z"
    },
    "papermill": {
     "duration": 0.074662,
     "end_time": "2021-06-22T19:19:37.819664",
     "exception": false,
     "start_time": "2021-06-22T19:19:37.745002",
     "status": "completed"
    },
    "tags": []
   },
   "outputs": [
    {
     "data": {
      "text/plain": [
       "Pregnancies                 0\n",
       "Glucose                     0\n",
       "BloodPressure               0\n",
       "SkinThickness               0\n",
       "Insulin                     0\n",
       "BMI                         0\n",
       "DiabetesPedigreeFunction    0\n",
       "Age                         0\n",
       "Outcome                     0\n",
       "dtype: int64"
      ]
     },
     "execution_count": 7,
     "metadata": {},
     "output_type": "execute_result"
    }
   ],
   "source": [
    "df.isnull().sum()"
   ]
  },
  {
   "cell_type": "code",
   "execution_count": 8,
   "id": "therapeutic-estimate",
   "metadata": {
    "_kg_hide-input": true,
    "execution": {
     "iopub.execute_input": "2021-06-22T19:19:37.953808Z",
     "iopub.status.busy": "2021-06-22T19:19:37.953189Z",
     "iopub.status.idle": "2021-06-22T19:19:38.091056Z",
     "shell.execute_reply": "2021-06-22T19:19:38.090537Z",
     "shell.execute_reply.started": "2021-06-22T18:42:22.644744Z"
    },
    "papermill": {
     "duration": 0.207625,
     "end_time": "2021-06-22T19:19:38.091190",
     "exception": false,
     "start_time": "2021-06-22T19:19:37.883565",
     "status": "completed"
    },
    "tags": []
   },
   "outputs": [
    {
     "data": {
      "image/png": "[encoded data removed]",
      "text/plain": [
       "<Figure size 1080x216 with 1 Axes>"
      ]
     },
     "metadata": {
      "needs_background": "light"
     },
     "output_type": "display_data"
    }
   ],
   "source": [
    "colors= ['#0A2239' ,'#53A2BE' ,'#1D84B5' ,'#132E32' ,'#176087']\n",
    "sns.palplot(colors, size=3)\n",
    "plt.text(-0.5, -0.75, \"Color Palette for Visualizations\", {'fontfamily': 'sans-serif', 'size': 21, 'weight':'semibold'})\n",
    "for idx,values in enumerate(colors):\n",
    "    plt.text(idx-0.25,0, colors[idx],{'fontfamily':'Poppins, sans-serif', 'size':16, 'weight':'semibold','color':'#fff'}, alpha =1)"
   ]
  },
  {
   "cell_type": "markdown",
   "id": "conceptual-nomination",
   "metadata": {
    "papermill": {
     "duration": 0.063935,
     "end_time": "2021-06-22T19:19:38.221761",
     "exception": false,
     "start_time": "2021-06-22T19:19:38.157826",
     "status": "completed"
    },
    "tags": []
   },
   "source": [
    "<h1 style=\"font-family: 'Poppins', sans-serif; font-size: 20px; text-align: left; color: #oa2239; background-color: #C0FDFB; padding: 15px; border-radius: 40px\">Univariate Analysis</h1>"
   ]
  },
  {
   "cell_type": "code",
   "execution_count": 9,
   "id": "honey-strand",
   "metadata": {
    "_kg_hide-input": true,
    "execution": {
     "iopub.execute_input": "2021-06-22T19:19:38.411381Z",
     "iopub.status.busy": "2021-06-22T19:19:38.395859Z",
     "iopub.status.idle": "2021-06-22T19:19:39.504263Z",
     "shell.execute_reply": "2021-06-22T19:19:39.504735Z",
     "shell.execute_reply.started": "2021-06-22T18:42:22.760850Z"
    },
    "jupyter": {
     "source_hidden": true
    },
    "papermill": {
     "duration": 1.218126,
     "end_time": "2021-06-22T19:19:39.504897",
     "exception": false,
     "start_time": "2021-06-22T19:19:38.286771",
     "status": "completed"
    },
    "tags": []
   },
   "outputs": [
    {
     "data": {
      "image/png": "[encoded data removed]",
      "text/plain": [
       "<Figure size 1440x864 with 6 Axes>"
      ]
     },
     "metadata": {},
     "output_type": "display_data"
    }
   ],
   "source": [
    "fig = plt.figure(figsize=(20,12))\n",
    "gs = fig.add_gridspec(2,3)\n",
    "gs.update(wspace=0.5, hspace=0.25)\n",
    "ax0 = fig.add_subplot(gs[0,0])\n",
    "ax1 = fig.add_subplot(gs[0,1])\n",
    "ax2 = fig.add_subplot(gs[0,2])\n",
    "ax3 = fig.add_subplot(gs[1,0])\n",
    "ax4 = fig.add_subplot(gs[1,1])\n",
    "ax5 = fig.add_subplot(gs[1,2])\n",
    "\n",
    "background_color = \"#DFFDFF\"\n",
    "fig.patch.set_facecolor(background_color)\n",
    "ax0.set_facecolor(background_color) \n",
    "ax1.set_facecolor(background_color) \n",
    "ax2.set_facecolor(background_color) \n",
    "ax3.set_facecolor(background_color) \n",
    "ax4.set_facecolor(background_color) \n",
    "ax5.set_facecolor(background_color)\n",
    "\n",
    "\n",
    "ax0.text(0.08, 550, 'Outcome', fontsize=25, color='#6D454C', weight='bold')\n",
    "ax0.grid(axis='y', color=\"#333\", linestyle=':')\n",
    "ax0.tick_params(axis='both', which='major', labelsize=20)\n",
    "sns.countplot(x='Outcome', data=df, palette=colors, ax=ax0, edgecolor=\"black\").set(xlabel=\"\", ylabel=\"\")\n",
    "\n",
    "ax1.text(40, 240, 'Age', fontsize=25, color='#6D454C', weight='bold')\n",
    "ax1.grid(axis='y', color=\"#333\", linestyle=':')\n",
    "ax1.tick_params(axis='both', which='major', labelsize=20)\n",
    "sns.histplot(x='Age', data=df, palette=colors, ax=ax1, edgecolor=\"black\", kde=True).set(xlabel=\"\", ylabel=\"\")\n",
    "\n",
    "ax2.text(15, 110, 'Blood Pressure', fontsize=25, color='#6D454C', weight='bold')\n",
    "ax2.grid(axis='y', color=\"#333\", linestyle=':')\n",
    "ax2.tick_params(axis='both', which='major', labelsize=20)\n",
    "sns.histplot(x='BloodPressure', data=df, color='#0A2239', ax=ax2, edgecolor=\"black\", kde=True).set(xlabel=\"\", ylabel=\"\")\n",
    "\n",
    "ax3.text(100, 420, 'Insulin Levels', fontsize=25, color='#6D454C', weight='bold')\n",
    "ax3.grid(axis='y', color=\"#333\", linestyle=':')\n",
    "ax3.tick_params(axis='both', which='major', labelsize=20)\n",
    "sns.histplot(x='Insulin', data=df, palette=colors, ax=ax3, edgecolor=\"black\", kde=True).set(xlabel=\"\", ylabel=\"\")\n",
    "\n",
    "ax4.text(50, 111, 'Glucose Levels', fontsize=25, color='#6D454C', weight='bold')\n",
    "ax4.grid(axis='y', color=\"#333\", linestyle=':')\n",
    "ax4.tick_params(axis='both', which='major', labelsize=20)\n",
    "sns.histplot(x='Glucose', data=df, color='#0A2239', ax=ax4, edgecolor=\"black\", kde=True).set(xlabel=\"\", ylabel=\"\")\n",
    "\n",
    "ax5.text(25, 103 , 'BMI', fontsize=25, color='#6D454C', weight='bold')\n",
    "ax5.grid(axis='y', color=\"#333\", linestyle=':')\n",
    "ax5.tick_params(axis='both', which='major', labelsize=20)\n",
    "sns.histplot(x='BMI', data=df, ax=ax5, edgecolor=\"black\", kde=True).set(xlabel=\"\", ylabel=\"\")\n",
    "\n",
    "fig.suptitle('Distribution plots of different attributes', fontsize=\"28\", weight=\"bold\", color=\"#176087\")\n",
    "\n",
    "\n",
    "for s in [\"top\",\"right\",\"left\"]:\n",
    "    ax0.spines[s].set_visible(False)\n",
    "    ax1.spines[s].set_visible(False)\n",
    "    ax2.spines[s].set_visible(False)\n",
    "    ax3.spines[s].set_visible(False)\n",
    "    ax4.spines[s].set_visible(False)\n",
    "    ax5.spines[s].set_visible(False)"
   ]
  },
  {
   "cell_type": "markdown",
   "id": "prospective-dryer",
   "metadata": {
    "papermill": {
     "duration": 0.067741,
     "end_time": "2021-06-22T19:19:39.642110",
     "exception": false,
     "start_time": "2021-06-22T19:19:39.574369",
     "status": "completed"
    },
    "tags": []
   },
   "source": [
    "<h4 style=\"font-family: 'Poppins', sans-serif; font-size: 18px; font-weight: 700;\">Interpretations from the above graphs.</h4>\n",
    "<ul style=\"font-family: 'Poppins', sans-serif; font-size: 16px;\">\n",
    "    <li>Age and Insulin columns are highly right skewed. I'll have to normalize it before using it for the model building,</li>\n",
    "    <li>Dataset contains more number of people between the age of 20-40 years.</li>\n",
    "    <li>Large number of people have blood pressure between 50 and 100 mmHg</li>\n",
    "    <li>Large number of people with insulin values of 0. Mostly insulin levels of 0 are seen in Type 1 diabetic patients.</li>\n",
    "    <li>Lot of people have glucose levels between 100 and 200 mg/dL. People with Glucose levels between 140mg/dL and 199mg/dL are considered to be prediabetic. </li>\n",
    "    <li>There are a lot of people in the BMI range of 20 and 50. A healthy adult should have a BMI between 18.5 and 24.9. This dataset obviously has many people who are either overweight or obese.</li>\n",
    "</ul>"
   ]
  },
  {
   "cell_type": "markdown",
   "id": "frank-edmonton",
   "metadata": {
    "papermill": {
     "duration": 0.070082,
     "end_time": "2021-06-22T19:19:39.780189",
     "exception": false,
     "start_time": "2021-06-22T19:19:39.710107",
     "status": "completed"
    },
    "tags": []
   },
   "source": [
    "<h1 style=\"font-family: 'Poppins', sans-serif; font-size: 20px; text-align: left; color: #oa2239; background-color: #C0FDFB; padding: 15px; border-radius: 40px\">Multivariate Analysis</h1>"
   ]
  },
  {
   "cell_type": "code",
   "execution_count": 10,
   "id": "bronze-observation",
   "metadata": {
    "execution": {
     "iopub.execute_input": "2021-06-22T19:19:39.925442Z",
     "iopub.status.busy": "2021-06-22T19:19:39.924730Z",
     "iopub.status.idle": "2021-06-22T19:19:40.360259Z",
     "shell.execute_reply": "2021-06-22T19:19:40.359696Z",
     "shell.execute_reply.started": "2021-06-22T18:42:23.792418Z"
    },
    "papermill": {
     "duration": 0.509616,
     "end_time": "2021-06-22T19:19:40.360383",
     "exception": false,
     "start_time": "2021-06-22T19:19:39.850767",
     "status": "completed"
    },
    "tags": []
   },
   "outputs": [
    {
     "data": {
      "text/plain": [
       "<AxesSubplot:>"
      ]
     },
     "execution_count": 10,
     "metadata": {},
     "output_type": "execute_result"
    },
    {
     "data": {
      "image/png": "[encoded data removed]",
      "text/plain": [
       "<Figure size 864x432 with 2 Axes>"
      ]
     },
     "metadata": {
      "needs_background": "light"
     },
     "output_type": "display_data"
    }
   ],
   "source": [
    "plt.figure(figsize=(12,6))\n",
    "matrix = np.triu(df.corr())\n",
    "sns.heatmap(df.corr(), annot=True, cmap='Blues', mask=matrix)"
   ]
  },
  {
   "cell_type": "code",
   "execution_count": 11,
   "id": "banner-klein",
   "metadata": {
    "_kg_hide-input": true,
    "execution": {
     "iopub.execute_input": "2021-06-22T19:19:40.570533Z",
     "iopub.status.busy": "2021-06-22T19:19:40.565516Z",
     "iopub.status.idle": "2021-06-22T19:19:41.426947Z",
     "shell.execute_reply": "2021-06-22T19:19:41.427387Z",
     "shell.execute_reply.started": "2021-06-22T18:42:24.241431Z"
    },
    "jupyter": {
     "source_hidden": true
    },
    "papermill": {
     "duration": 0.997642,
     "end_time": "2021-06-22T19:19:41.427533",
     "exception": false,
     "start_time": "2021-06-22T19:19:40.429891",
     "status": "completed"
    },
    "tags": []
   },
   "outputs": [
    {
     "data": {
      "image/png": "[encoded data removed]",
      "text/plain": [
       "<Figure size 1080x1008 with 6 Axes>"
      ]
     },
     "metadata": {},
     "output_type": "display_data"
    }
   ],
   "source": [
    "fig = plt.figure(figsize=(15,14))\n",
    "gs = fig.add_gridspec(3,2)\n",
    "gs.update(wspace=0.5, hspace=0.25)\n",
    "axA = fig.add_subplot(gs[0,0])\n",
    "axB = fig.add_subplot(gs[0,1])\n",
    "axC = fig.add_subplot(gs[1,0])\n",
    "axD = fig.add_subplot(gs[1,1])\n",
    "axE = fig.add_subplot(gs[2,0])\n",
    "axF = fig.add_subplot(gs[2,1])\n",
    "\n",
    "background_color = \"#DFFDFF\"\n",
    "fig.patch.set_facecolor(background_color)\n",
    "axA.set_facecolor(background_color) \n",
    "axB.set_facecolor(background_color) \n",
    "axC.set_facecolor(background_color) \n",
    "axD.set_facecolor(background_color) \n",
    "axE.set_facecolor(background_color) \n",
    "axF.set_facecolor(background_color)\n",
    "\n",
    "axA.tick_params(axis='both',left=False, bottom=False)\n",
    "axA.set_xticklabels([])\n",
    "axA.set_yticklabels([])\n",
    "axA.text(0.6,0.4, \"Age vs Pregnancies\\n____________\",horizontalalignment = 'center',verticalalignment = 'center',\n",
    "         fontsize = 24,fontweight='bold',fontfamily='sans-serif', color='#437F97')\n",
    "\n",
    "axC.tick_params(axis='both',left=False, bottom=False)\n",
    "axC.set_xticklabels([])\n",
    "axC.set_yticklabels([])\n",
    "axC.text(0.6,0.4, \"Skin Thickness vs Insulin\\n____________\",horizontalalignment = 'center',verticalalignment = 'center',\n",
    "         fontsize = 24,fontweight='bold',fontfamily='sans-serif', color='#437F97')\n",
    "\n",
    "axE.tick_params(axis='both',left=False, bottom=False)\n",
    "axE.set_xticklabels([])\n",
    "axE.set_yticklabels([])\n",
    "axE.text(0.6,0.4, \"Skin Thickness vs BMI\\n____________\",horizontalalignment = 'center',verticalalignment = 'center',\n",
    "         fontsize = 24,fontweight='bold',fontfamily='sans-serif', color='#437F97')\n",
    "\n",
    "axB.grid(axis='y', color=\"#333\", linestyle=':')\n",
    "axB.tick_params(axis='both', which='major', labelsize=12)\n",
    "axB.set_xlabel('Age',fontsize=12)\n",
    "axB.set_ylabel('Pregnancies',fontsize=12)\n",
    "sns.scatterplot(x=\"Age\",y=\"Pregnancies\",data=df, ax=axB, hue=\"Outcome\")\n",
    "\n",
    "axD.grid(axis='y', color=\"#333\", linestyle=':')\n",
    "axD.tick_params(axis='both', which='major', labelsize=12)\n",
    "axD.set_xlabel('Skin Thickness',fontsize=12)\n",
    "axD.set_ylabel('Insulin',fontsize=12)\n",
    "sns.scatterplot(x=\"SkinThickness\",y=\"Insulin\",data=df, ax=axD, hue=\"Outcome\")\n",
    "\n",
    "axF.grid(axis='y', color=\"#333\", linestyle=':')\n",
    "axF.tick_params(axis='both', which='major', labelsize=12)\n",
    "axF.set_xlabel('Skin Thickness',fontsize=12)\n",
    "axF.set_ylabel('BMI',fontsize=12)\n",
    "sns.scatterplot(x=\"SkinThickness\",y=\"BMI\",data=df, ax=axF, hue=\"Outcome\")\n",
    "\n",
    "fig.suptitle('Positive Correlation', fontsize=\"28\", \n",
    "             weight=\"bold\", color=\"#176087\")\n",
    "\n",
    "for s in [\"top\",\"right\",\"left\", \"bottom\"]:\n",
    "    axA.spines[s].set_visible(False)\n",
    "    axC.spines[s].set_visible(False)\n",
    "    axE.spines[s].set_visible(False)\n",
    "    \n",
    "for s in [\"top\",\"right\",\"left\"]:\n",
    "    axB.spines[s].set_visible(False)\n",
    "    axD.spines[s].set_visible(False)\n",
    "    axF.spines[s].set_visible(False)"
   ]
  },
  {
   "cell_type": "markdown",
   "id": "orange-message",
   "metadata": {
    "papermill": {
     "duration": 0.076368,
     "end_time": "2021-06-22T19:19:41.583234",
     "exception": false,
     "start_time": "2021-06-22T19:19:41.506866",
     "status": "completed"
    },
    "tags": []
   },
   "source": [
    "<h4 style=\"font-family: 'Poppins', sans-serif; font-size: 18px; font-weight: 700;\">Interpretations from the above graphs.</h4>\n",
    "<ul style=\"font-family: 'Poppins', sans-serif; font-size: 16px;\">\n",
    "    <li>Age vs Pregnancies shows minorly that with low number of pregnancy and lesser age the person tends to not have diabetes. But with increase in age and number of pregnancies chances of getting diabetes increases. </li>\n",
    "    <li>Skin Thickness vs Insulin shows the larger skin thickness and higher insulin values contributes to Diabetes.</li>\n",
    "    <li> <b>Now some people may think that if there is high level of Insulin then why isn't Diabetes balanced?</b> It happens when the body doesn't respond properly to the Insulin produced. So this leads to Diabetes and also increased Insulin Levels. </li>\n",
    "    <li>Skin Thickness vs BMI shows higher BMI and larger skin thickness contributes to Diabetes. BMI greater than 25 is already defined as overweight and there are many people in this dataset with BMI greater than 30.</li>\n",
    "</ul>"
   ]
  },
  {
   "cell_type": "code",
   "execution_count": 12,
   "id": "static-steam",
   "metadata": {
    "_kg_hide-input": true,
    "execution": {
     "iopub.execute_input": "2021-06-22T19:19:41.858848Z",
     "iopub.status.busy": "2021-06-22T19:19:41.803834Z",
     "iopub.status.idle": "2021-06-22T19:19:42.357379Z",
     "shell.execute_reply": "2021-06-22T19:19:42.357836Z",
     "shell.execute_reply.started": "2021-06-22T18:42:25.181910Z"
    },
    "jupyter": {
     "source_hidden": true
    },
    "papermill": {
     "duration": 0.700526,
     "end_time": "2021-06-22T19:19:42.358027",
     "exception": false,
     "start_time": "2021-06-22T19:19:41.657501",
     "status": "completed"
    },
    "tags": []
   },
   "outputs": [
    {
     "data": {
      "image/png": "[encoded data removed]",
      "text/plain": [
       "<Figure size 1080x720 with 4 Axes>"
      ]
     },
     "metadata": {},
     "output_type": "display_data"
    }
   ],
   "source": [
    "fig = plt.figure(figsize=(15,10))\n",
    "gs = fig.add_gridspec(2,2)\n",
    "gs.update(wspace=0.5, hspace=0.25)\n",
    "axA = fig.add_subplot(gs[0,0])\n",
    "axB = fig.add_subplot(gs[0,1])\n",
    "axC = fig.add_subplot(gs[1,0])\n",
    "axD = fig.add_subplot(gs[1,1])\n",
    "\n",
    "background_color = \"#DFFDFF\"\n",
    "fig.patch.set_facecolor(background_color)\n",
    "axA.set_facecolor(background_color) \n",
    "axB.set_facecolor(background_color) \n",
    "axC.set_facecolor(background_color) \n",
    "axD.set_facecolor(background_color) \n",
    "\n",
    "axA.tick_params(axis='both',left=False, bottom=False)\n",
    "axA.set_xticklabels([])\n",
    "axA.set_yticklabels([])\n",
    "axA.text(0.6,0.4, \"Age vs Skin Thickness\\n____________\",horizontalalignment = 'center',verticalalignment = 'center',\n",
    "         fontsize = 24,fontweight='bold',fontfamily='sans-serif', color='#437F97')\n",
    "\n",
    "axC.tick_params(axis='both',left=False, bottom=False)\n",
    "axC.set_xticklabels([])\n",
    "axC.set_yticklabels([])\n",
    "axC.text(0.6,0.4, \"Age vs Insulin\\n____________\",horizontalalignment = 'center',verticalalignment = 'center',\n",
    "         fontsize = 24,fontweight='bold',fontfamily='sans-serif', color='#437F97')\n",
    "\n",
    "axB.grid(axis='y', color=\"#333\", linestyle=':')\n",
    "axB.tick_params(axis='both', which='major', labelsize=12)\n",
    "axB.set_xlabel('Age',fontsize=12)\n",
    "axB.set_ylabel('Skin Thickness',fontsize=12)\n",
    "sns.scatterplot(x=\"Age\",y=\"Pregnancies\",data=df, ax=axB, hue=\"Outcome\")\n",
    "\n",
    "axD.grid(axis='y', color=\"#333\", linestyle=':')\n",
    "axD.tick_params(axis='both', which='major', labelsize=12)\n",
    "axD.set_xlabel('Age',fontsize=12)\n",
    "axD.set_ylabel('Insulin',fontsize=12)\n",
    "sns.scatterplot(x=\"Age\",y=\"Insulin\",data=df, ax=axD, hue=\"Outcome\")\n",
    "\n",
    "fig.suptitle('Negative Correlation', fontsize=\"28\", \n",
    "             weight=\"bold\", color=\"#176087\")\n",
    "\n",
    "for s in [\"top\",\"right\",\"left\", \"bottom\"]:\n",
    "    axA.spines[s].set_visible(False)\n",
    "    axC.spines[s].set_visible(False)\n",
    "    \n",
    "for s in [\"top\",\"right\",\"left\"]:\n",
    "    axB.spines[s].set_visible(False)\n",
    "    axD.spines[s].set_visible(False)"
   ]
  },
  {
   "cell_type": "markdown",
   "id": "governing-gates",
   "metadata": {
    "papermill": {
     "duration": 0.076395,
     "end_time": "2021-06-22T19:19:42.512023",
     "exception": false,
     "start_time": "2021-06-22T19:19:42.435628",
     "status": "completed"
    },
    "tags": []
   },
   "source": [
    "<h4 style=\"font-family: 'Poppins', sans-serif; font-size: 18px; font-weight: 700;\">Interpretations from the above graphs.</h4>\n",
    "<ul style=\"font-family: 'Poppins', sans-serif; font-size: 16px;\">\n",
    "    <li>Age vs Skin Thickness shows minorly that with lesser skin thickness and lesser age the person tends to not have diabetes. But with increase in age and increase in skin thickness chances of getting diabetes increases. </li>\n",
    "    <li>Age vs Insulin shows the higher insulin levels and more aged people tend to have Diabetes.</li>\n",
    "</ul>"
   ]
  },
  {
   "cell_type": "markdown",
   "id": "suspected-leave",
   "metadata": {
    "papermill": {
     "duration": 0.078228,
     "end_time": "2021-06-22T19:19:42.670076",
     "exception": false,
     "start_time": "2021-06-22T19:19:42.591848",
     "status": "completed"
    },
    "tags": []
   },
   "source": [
    "<a id=\"section3\"></a>\n",
    "<h1 style=\"font-family: 'Poppins', sans-serif; font-size: 28px; text-align: left; color: #176087; background-color: #FDF0D5; padding: 25px; border-radius: 10px;\">2. Data Preprocessing</h1>"
   ]
  },
  {
   "cell_type": "markdown",
   "id": "formed-machinery",
   "metadata": {
    "papermill": {
     "duration": 0.079035,
     "end_time": "2021-06-22T19:19:42.828860",
     "exception": false,
     "start_time": "2021-06-22T19:19:42.749825",
     "status": "completed"
    },
    "tags": []
   },
   "source": [
    "<h1 style=\"font-family: 'Poppins', sans-serif; font-size: 20px; text-align: left; color: #oa2239; background-color: #C0FDFB; padding: 15px; border-radius: 40px\">Missing Values</h1>"
   ]
  },
  {
   "cell_type": "markdown",
   "id": "marked-broadway",
   "metadata": {
    "papermill": {
     "duration": 0.078313,
     "end_time": "2021-06-22T19:19:42.986445",
     "exception": false,
     "start_time": "2021-06-22T19:19:42.908132",
     "status": "completed"
    },
    "tags": []
   },
   "source": [
    "<ul style=\"font-family: 'Poppins', sans-serif; font-size: 16px;\"><li>After some digging I found that the zeroes in the columns like Insulin levels, BMI, Glucose etc. are just missing values.</li> <li>Also it was kind of obvious that glucose and other such important attributes of Human Body can never be zero.</li><li>So first I'll replace all the zeroes in such columns to NaN values and then impute accordingly with median.</li></ul>"
   ]
  },
  {
   "cell_type": "code",
   "execution_count": 13,
   "id": "considered-canada",
   "metadata": {
    "execution": {
     "iopub.execute_input": "2021-06-22T19:19:43.152253Z",
     "iopub.status.busy": "2021-06-22T19:19:43.151299Z",
     "iopub.status.idle": "2021-06-22T19:19:43.154170Z",
     "shell.execute_reply": "2021-06-22T19:19:43.153671Z",
     "shell.execute_reply.started": "2021-06-22T18:42:26.037746Z"
    },
    "papermill": {
     "duration": 0.091519,
     "end_time": "2021-06-22T19:19:43.154292",
     "exception": false,
     "start_time": "2021-06-22T19:19:43.062773",
     "status": "completed"
    },
    "tags": []
   },
   "outputs": [],
   "source": [
    "df[['Glucose','BloodPressure','SkinThickness','Insulin','BMI']] = df[['Glucose','BloodPressure','SkinThickness','Insulin','BMI']].replace(0,np.NaN)"
   ]
  },
  {
   "cell_type": "code",
   "execution_count": 14,
   "id": "surprising-liverpool",
   "metadata": {
    "execution": {
     "iopub.execute_input": "2021-06-22T19:19:43.313818Z",
     "iopub.status.busy": "2021-06-22T19:19:43.313006Z",
     "iopub.status.idle": "2021-06-22T19:19:43.316052Z",
     "shell.execute_reply": "2021-06-22T19:19:43.315584Z",
     "shell.execute_reply.started": "2021-06-22T18:42:26.048211Z"
    },
    "papermill": {
     "duration": 0.084156,
     "end_time": "2021-06-22T19:19:43.316192",
     "exception": false,
     "start_time": "2021-06-22T19:19:43.232036",
     "status": "completed"
    },
    "tags": []
   },
   "outputs": [],
   "source": [
    "def median_target(data, var):   \n",
    "    temp = data[data[var].notnull()]\n",
    "    temp = temp[[var, 'Outcome']].groupby(['Outcome'])[[var]].median().reset_index()\n",
    "    return temp"
   ]
  },
  {
   "cell_type": "code",
   "execution_count": 15,
   "id": "promising-reverse",
   "metadata": {
    "execution": {
     "iopub.execute_input": "2021-06-22T19:19:43.477683Z",
     "iopub.status.busy": "2021-06-22T19:19:43.477081Z",
     "iopub.status.idle": "2021-06-22T19:19:43.479786Z",
     "shell.execute_reply": "2021-06-22T19:19:43.479333Z",
     "shell.execute_reply.started": "2021-06-22T18:42:26.060086Z"
    },
    "papermill": {
     "duration": 0.087021,
     "end_time": "2021-06-22T19:19:43.479915",
     "exception": false,
     "start_time": "2021-06-22T19:19:43.392894",
     "status": "completed"
    },
    "tags": []
   },
   "outputs": [],
   "source": [
    "def replace_median(data, columns):\n",
    "    for i in columns:\n",
    "        f = median_target(data, i)\n",
    "        display(f)\n",
    "        data.loc[(data['Outcome'] == 0 ) & (data[i].isnull()), i] = f[[i]].values[0][0]\n",
    "        data.loc[(data['Outcome'] == 1 ) & (data[i].isnull()), i] = f[[i]].values[1][0]"
   ]
  },
  {
   "cell_type": "code",
   "execution_count": 16,
   "id": "olive-announcement",
   "metadata": {
    "execution": {
     "iopub.execute_input": "2021-06-22T19:19:43.637821Z",
     "iopub.status.busy": "2021-06-22T19:19:43.637266Z",
     "iopub.status.idle": "2021-06-22T19:19:43.639983Z",
     "shell.execute_reply": "2021-06-22T19:19:43.639521Z",
     "shell.execute_reply.started": "2021-06-22T18:42:26.077011Z"
    },
    "papermill": {
     "duration": 0.083301,
     "end_time": "2021-06-22T19:19:43.640117",
     "exception": false,
     "start_time": "2021-06-22T19:19:43.556816",
     "status": "completed"
    },
    "tags": []
   },
   "outputs": [],
   "source": [
    "null_cols = ['Glucose', 'BloodPressure','SkinThickness','Insulin', 'BMI']"
   ]
  },
  {
   "cell_type": "code",
   "execution_count": 17,
   "id": "abandoned-forum",
   "metadata": {
    "execution": {
     "iopub.execute_input": "2021-06-22T19:19:43.804891Z",
     "iopub.status.busy": "2021-06-22T19:19:43.799187Z",
     "iopub.status.idle": "2021-06-22T19:19:43.859304Z",
     "shell.execute_reply": "2021-06-22T19:19:43.858694Z",
     "shell.execute_reply.started": "2021-06-22T18:42:26.094899Z"
    },
    "papermill": {
     "duration": 0.142783,
     "end_time": "2021-06-22T19:19:43.859425",
     "exception": false,
     "start_time": "2021-06-22T19:19:43.716642",
     "status": "completed"
    },
    "tags": []
   },
   "outputs": [
    {
     "data": {
      "text/html": [
       "<div>\n",
       "<style scoped>\n",
       "    .dataframe tbody tr th:only-of-type {\n",
       "        vertical-align: middle;\n",
       "    }\n",
       "\n",
       "    .dataframe tbody tr th {\n",
       "        vertical-align: top;\n",
       "    }\n",
       "\n",
       "    .dataframe thead th {\n",
       "        text-align: right;\n",
       "    }\n",
       "</style>\n",
       "<table border=\"1\" class=\"dataframe\">\n",
       "  <thead>\n",
       "    <tr style=\"text-align: right;\">\n",
       "      <th></th>\n",
       "      <th>Outcome</th>\n",
       "      <th>Glucose</th>\n",
       "    </tr>\n",
       "  </thead>\n",
       "  <tbody>\n",
       "    <tr>\n",
       "      <th>0</th>\n",
       "      <td>0</td>\n",
       "      <td>107.0</td>\n",
       "    </tr>\n",
       "    <tr>\n",
       "      <th>1</th>\n",
       "      <td>1</td>\n",
       "      <td>140.0</td>\n",
       "    </tr>\n",
       "  </tbody>\n",
       "</table>\n",
       "</div>"
      ],
      "text/plain": [
       "   Outcome  Glucose\n",
       "0        0    107.0\n",
       "1        1    140.0"
      ]
     },
     "metadata": {},
     "output_type": "display_data"
    },
    {
     "data": {
      "text/html": [
       "<div>\n",
       "<style scoped>\n",
       "    .dataframe tbody tr th:only-of-type {\n",
       "        vertical-align: middle;\n",
       "    }\n",
       "\n",
       "    .dataframe tbody tr th {\n",
       "        vertical-align: top;\n",
       "    }\n",
       "\n",
       "    .dataframe thead th {\n",
       "        text-align: right;\n",
       "    }\n",
       "</style>\n",
       "<table border=\"1\" class=\"dataframe\">\n",
       "  <thead>\n",
       "    <tr style=\"text-align: right;\">\n",
       "      <th></th>\n",
       "      <th>Outcome</th>\n",
       "      <th>BloodPressure</th>\n",
       "    </tr>\n",
       "  </thead>\n",
       "  <tbody>\n",
       "    <tr>\n",
       "      <th>0</th>\n",
       "      <td>0</td>\n",
       "      <td>70.0</td>\n",
       "    </tr>\n",
       "    <tr>\n",
       "      <th>1</th>\n",
       "      <td>1</td>\n",
       "      <td>74.5</td>\n",
       "    </tr>\n",
       "  </tbody>\n",
       "</table>\n",
       "</div>"
      ],
      "text/plain": [
       "   Outcome  BloodPressure\n",
       "0        0           70.0\n",
       "1        1           74.5"
      ]
     },
     "metadata": {},
     "output_type": "display_data"
    },
    {
     "data": {
      "text/html": [
       "<div>\n",
       "<style scoped>\n",
       "    .dataframe tbody tr th:only-of-type {\n",
       "        vertical-align: middle;\n",
       "    }\n",
       "\n",
       "    .dataframe tbody tr th {\n",
       "        vertical-align: top;\n",
       "    }\n",
       "\n",
       "    .dataframe thead th {\n",
       "        text-align: right;\n",
       "    }\n",
       "</style>\n",
       "<table border=\"1\" class=\"dataframe\">\n",
       "  <thead>\n",
       "    <tr style=\"text-align: right;\">\n",
       "      <th></th>\n",
       "      <th>Outcome</th>\n",
       "      <th>SkinThickness</th>\n",
       "    </tr>\n",
       "  </thead>\n",
       "  <tbody>\n",
       "    <tr>\n",
       "      <th>0</th>\n",
       "      <td>0</td>\n",
       "      <td>27.0</td>\n",
       "    </tr>\n",
       "    <tr>\n",
       "      <th>1</th>\n",
       "      <td>1</td>\n",
       "      <td>32.0</td>\n",
       "    </tr>\n",
       "  </tbody>\n",
       "</table>\n",
       "</div>"
      ],
      "text/plain": [
       "   Outcome  SkinThickness\n",
       "0        0           27.0\n",
       "1        1           32.0"
      ]
     },
     "metadata": {},
     "output_type": "display_data"
    },
    {
     "data": {
      "text/html": [
       "<div>\n",
       "<style scoped>\n",
       "    .dataframe tbody tr th:only-of-type {\n",
       "        vertical-align: middle;\n",
       "    }\n",
       "\n",
       "    .dataframe tbody tr th {\n",
       "        vertical-align: top;\n",
       "    }\n",
       "\n",
       "    .dataframe thead th {\n",
       "        text-align: right;\n",
       "    }\n",
       "</style>\n",
       "<table border=\"1\" class=\"dataframe\">\n",
       "  <thead>\n",
       "    <tr style=\"text-align: right;\">\n",
       "      <th></th>\n",
       "      <th>Outcome</th>\n",
       "      <th>Insulin</th>\n",
       "    </tr>\n",
       "  </thead>\n",
       "  <tbody>\n",
       "    <tr>\n",
       "      <th>0</th>\n",
       "      <td>0</td>\n",
       "      <td>102.5</td>\n",
       "    </tr>\n",
       "    <tr>\n",
       "      <th>1</th>\n",
       "      <td>1</td>\n",
       "      <td>169.5</td>\n",
       "    </tr>\n",
       "  </tbody>\n",
       "</table>\n",
       "</div>"
      ],
      "text/plain": [
       "   Outcome  Insulin\n",
       "0        0    102.5\n",
       "1        1    169.5"
      ]
     },
     "metadata": {},
     "output_type": "display_data"
    },
    {
     "data": {
      "text/html": [
       "<div>\n",
       "<style scoped>\n",
       "    .dataframe tbody tr th:only-of-type {\n",
       "        vertical-align: middle;\n",
       "    }\n",
       "\n",
       "    .dataframe tbody tr th {\n",
       "        vertical-align: top;\n",
       "    }\n",
       "\n",
       "    .dataframe thead th {\n",
       "        text-align: right;\n",
       "    }\n",
       "</style>\n",
       "<table border=\"1\" class=\"dataframe\">\n",
       "  <thead>\n",
       "    <tr style=\"text-align: right;\">\n",
       "      <th></th>\n",
       "      <th>Outcome</th>\n",
       "      <th>BMI</th>\n",
       "    </tr>\n",
       "  </thead>\n",
       "  <tbody>\n",
       "    <tr>\n",
       "      <th>0</th>\n",
       "      <td>0</td>\n",
       "      <td>30.1</td>\n",
       "    </tr>\n",
       "    <tr>\n",
       "      <th>1</th>\n",
       "      <td>1</td>\n",
       "      <td>34.3</td>\n",
       "    </tr>\n",
       "  </tbody>\n",
       "</table>\n",
       "</div>"
      ],
      "text/plain": [
       "   Outcome   BMI\n",
       "0        0  30.1\n",
       "1        1  34.3"
      ]
     },
     "metadata": {},
     "output_type": "display_data"
    }
   ],
   "source": [
    "replace_median(df, null_cols)"
   ]
  },
  {
   "cell_type": "code",
   "execution_count": 18,
   "id": "protecting-orleans",
   "metadata": {
    "execution": {
     "iopub.execute_input": "2021-06-22T19:19:44.024998Z",
     "iopub.status.busy": "2021-06-22T19:19:44.024150Z",
     "iopub.status.idle": "2021-06-22T19:19:44.027625Z",
     "shell.execute_reply": "2021-06-22T19:19:44.028125Z",
     "shell.execute_reply.started": "2021-06-22T18:42:26.159613Z"
    },
    "papermill": {
     "duration": 0.090051,
     "end_time": "2021-06-22T19:19:44.028283",
     "exception": false,
     "start_time": "2021-06-22T19:19:43.938232",
     "status": "completed"
    },
    "tags": []
   },
   "outputs": [
    {
     "data": {
      "text/plain": [
       "Pregnancies                 0\n",
       "Glucose                     0\n",
       "BloodPressure               0\n",
       "SkinThickness               0\n",
       "Insulin                     0\n",
       "BMI                         0\n",
       "DiabetesPedigreeFunction    0\n",
       "Age                         0\n",
       "Outcome                     0\n",
       "dtype: int64"
      ]
     },
     "execution_count": 18,
     "metadata": {},
     "output_type": "execute_result"
    }
   ],
   "source": [
    "df.isnull().sum()"
   ]
  },
  {
   "cell_type": "code",
   "execution_count": 19,
   "id": "legitimate-catalyst",
   "metadata": {
    "execution": {
     "iopub.execute_input": "2021-06-22T19:19:44.192677Z",
     "iopub.status.busy": "2021-06-22T19:19:44.191829Z",
     "iopub.status.idle": "2021-06-22T19:19:44.204971Z",
     "shell.execute_reply": "2021-06-22T19:19:44.205472Z",
     "shell.execute_reply.started": "2021-06-22T18:42:26.169679Z"
    },
    "papermill": {
     "duration": 0.096698,
     "end_time": "2021-06-22T19:19:44.205632",
     "exception": false,
     "start_time": "2021-06-22T19:19:44.108934",
     "status": "completed"
    },
    "tags": []
   },
   "outputs": [
    {
     "name": "stdout",
     "output_type": "stream",
     "text": [
      "<class 'pandas.core.frame.DataFrame'>\n",
      "RangeIndex: 768 entries, 0 to 767\n",
      "Data columns (total 9 columns):\n",
      " #   Column                    Non-Null Count  Dtype  \n",
      "---  ------                    --------------  -----  \n",
      " 0   Pregnancies               768 non-null    int64  \n",
      " 1   Glucose                   768 non-null    float64\n",
      " 2   BloodPressure             768 non-null    float64\n",
      " 3   SkinThickness             768 non-null    float64\n",
      " 4   Insulin                   768 non-null    float64\n",
      " 5   BMI                       768 non-null    float64\n",
      " 6   DiabetesPedigreeFunction  768 non-null    float64\n",
      " 7   Age                       768 non-null    int64  \n",
      " 8   Outcome                   768 non-null    int64  \n",
      "dtypes: float64(6), int64(3)\n",
      "memory usage: 54.1 KB\n"
     ]
    }
   ],
   "source": [
    "df.info()"
   ]
  },
  {
   "cell_type": "markdown",
   "id": "given-folder",
   "metadata": {
    "papermill": {
     "duration": 0.080608,
     "end_time": "2021-06-22T19:19:44.366045",
     "exception": false,
     "start_time": "2021-06-22T19:19:44.285437",
     "status": "completed"
    },
    "tags": []
   },
   "source": [
    "<h1 style=\"font-family: 'Poppins', sans-serif; font-size: 20px; text-align: left; color: #oa2239; background-color: #C0FDFB; padding: 15px; border-radius: 40px\">Binning of Columns</h1>"
   ]
  },
  {
   "cell_type": "code",
   "execution_count": 20,
   "id": "destroyed-surge",
   "metadata": {
    "execution": {
     "iopub.execute_input": "2021-06-22T19:19:44.539752Z",
     "iopub.status.busy": "2021-06-22T19:19:44.531573Z",
     "iopub.status.idle": "2021-06-22T19:19:44.542416Z",
     "shell.execute_reply": "2021-06-22T19:19:44.541859Z",
     "shell.execute_reply.started": "2021-06-22T18:42:26.189820Z"
    },
    "papermill": {
     "duration": 0.09585,
     "end_time": "2021-06-22T19:19:44.542533",
     "exception": false,
     "start_time": "2021-06-22T19:19:44.446683",
     "status": "completed"
    },
    "tags": []
   },
   "outputs": [],
   "source": [
    "df['Age'] = pd.qcut(df['Age'], 10, duplicates='drop')"
   ]
  },
  {
   "cell_type": "code",
   "execution_count": 21,
   "id": "extended-knitting",
   "metadata": {
    "execution": {
     "iopub.execute_input": "2021-06-22T19:19:44.705342Z",
     "iopub.status.busy": "2021-06-22T19:19:44.704353Z",
     "iopub.status.idle": "2021-06-22T19:19:44.713132Z",
     "shell.execute_reply": "2021-06-22T19:19:44.713660Z",
     "shell.execute_reply.started": "2021-06-22T18:42:26.204613Z"
    },
    "papermill": {
     "duration": 0.092092,
     "end_time": "2021-06-22T19:19:44.713814",
     "exception": false,
     "start_time": "2021-06-22T19:19:44.621722",
     "status": "completed"
    },
    "tags": []
   },
   "outputs": [],
   "source": [
    "df['BMI'] = pd.qcut(df['BMI'], 5, duplicates='drop')"
   ]
  },
  {
   "cell_type": "markdown",
   "id": "loaded-youth",
   "metadata": {
    "papermill": {
     "duration": 0.083205,
     "end_time": "2021-06-22T19:19:44.879080",
     "exception": false,
     "start_time": "2021-06-22T19:19:44.795875",
     "status": "completed"
    },
    "tags": []
   },
   "source": [
    "<h1 style=\"font-family: 'Poppins', sans-serif; font-size: 20px; text-align: left; color: #oa2239; background-color: #C0FDFB; padding: 15px; border-radius: 40px\">Preparing data for Models</h1>"
   ]
  },
  {
   "cell_type": "code",
   "execution_count": 22,
   "id": "declared-rachel",
   "metadata": {
    "execution": {
     "iopub.execute_input": "2021-06-22T19:19:45.055726Z",
     "iopub.status.busy": "2021-06-22T19:19:45.054715Z",
     "iopub.status.idle": "2021-06-22T19:19:45.062132Z",
     "shell.execute_reply": "2021-06-22T19:19:45.062598Z",
     "shell.execute_reply.started": "2021-06-22T18:42:26.217744Z"
    },
    "papermill": {
     "duration": 0.100615,
     "end_time": "2021-06-22T19:19:45.062745",
     "exception": false,
     "start_time": "2021-06-22T19:19:44.962130",
     "status": "completed"
    },
    "tags": []
   },
   "outputs": [],
   "source": [
    "df = pd.get_dummies(df)"
   ]
  },
  {
   "cell_type": "code",
   "execution_count": 23,
   "id": "greek-protest",
   "metadata": {
    "execution": {
     "iopub.execute_input": "2021-06-22T19:19:45.226180Z",
     "iopub.status.busy": "2021-06-22T19:19:45.225275Z",
     "iopub.status.idle": "2021-06-22T19:19:45.247089Z",
     "shell.execute_reply": "2021-06-22T19:19:45.247502Z",
     "shell.execute_reply.started": "2021-06-22T18:42:26.242693Z"
    },
    "papermill": {
     "duration": 0.105614,
     "end_time": "2021-06-22T19:19:45.247699",
     "exception": false,
     "start_time": "2021-06-22T19:19:45.142085",
     "status": "completed"
    },
    "tags": []
   },
   "outputs": [
    {
     "data": {
      "text/html": [
       "<div>\n",
       "<style scoped>\n",
       "    .dataframe tbody tr th:only-of-type {\n",
       "        vertical-align: middle;\n",
       "    }\n",
       "\n",
       "    .dataframe tbody tr th {\n",
       "        vertical-align: top;\n",
       "    }\n",
       "\n",
       "    .dataframe thead th {\n",
       "        text-align: right;\n",
       "    }\n",
       "</style>\n",
       "<table border=\"1\" class=\"dataframe\">\n",
       "  <thead>\n",
       "    <tr style=\"text-align: right;\">\n",
       "      <th></th>\n",
       "      <th>Pregnancies</th>\n",
       "      <th>Glucose</th>\n",
       "      <th>BloodPressure</th>\n",
       "      <th>SkinThickness</th>\n",
       "      <th>Insulin</th>\n",
       "      <th>DiabetesPedigreeFunction</th>\n",
       "      <th>Outcome</th>\n",
       "      <th>BMI_(18.198999999999998, 26.2]</th>\n",
       "      <th>BMI_(26.2, 30.1]</th>\n",
       "      <th>BMI_(30.1, 33.72]</th>\n",
       "      <th>...</th>\n",
       "      <th>Age_(20.999, 22.0]</th>\n",
       "      <th>Age_(22.0, 23.0]</th>\n",
       "      <th>Age_(23.0, 25.0]</th>\n",
       "      <th>Age_(25.0, 27.0]</th>\n",
       "      <th>Age_(27.0, 29.0]</th>\n",
       "      <th>Age_(29.0, 33.0]</th>\n",
       "      <th>Age_(33.0, 38.0]</th>\n",
       "      <th>Age_(38.0, 42.6]</th>\n",
       "      <th>Age_(42.6, 51.0]</th>\n",
       "      <th>Age_(51.0, 81.0]</th>\n",
       "    </tr>\n",
       "  </thead>\n",
       "  <tbody>\n",
       "    <tr>\n",
       "      <th>0</th>\n",
       "      <td>6</td>\n",
       "      <td>148.0</td>\n",
       "      <td>72.0</td>\n",
       "      <td>35.0</td>\n",
       "      <td>169.5</td>\n",
       "      <td>0.627</td>\n",
       "      <td>1</td>\n",
       "      <td>0</td>\n",
       "      <td>0</td>\n",
       "      <td>1</td>\n",
       "      <td>...</td>\n",
       "      <td>0</td>\n",
       "      <td>0</td>\n",
       "      <td>0</td>\n",
       "      <td>0</td>\n",
       "      <td>0</td>\n",
       "      <td>0</td>\n",
       "      <td>0</td>\n",
       "      <td>0</td>\n",
       "      <td>1</td>\n",
       "      <td>0</td>\n",
       "    </tr>\n",
       "    <tr>\n",
       "      <th>1</th>\n",
       "      <td>1</td>\n",
       "      <td>85.0</td>\n",
       "      <td>66.0</td>\n",
       "      <td>29.0</td>\n",
       "      <td>102.5</td>\n",
       "      <td>0.351</td>\n",
       "      <td>0</td>\n",
       "      <td>0</td>\n",
       "      <td>1</td>\n",
       "      <td>0</td>\n",
       "      <td>...</td>\n",
       "      <td>0</td>\n",
       "      <td>0</td>\n",
       "      <td>0</td>\n",
       "      <td>0</td>\n",
       "      <td>0</td>\n",
       "      <td>1</td>\n",
       "      <td>0</td>\n",
       "      <td>0</td>\n",
       "      <td>0</td>\n",
       "      <td>0</td>\n",
       "    </tr>\n",
       "    <tr>\n",
       "      <th>2</th>\n",
       "      <td>8</td>\n",
       "      <td>183.0</td>\n",
       "      <td>64.0</td>\n",
       "      <td>32.0</td>\n",
       "      <td>169.5</td>\n",
       "      <td>0.672</td>\n",
       "      <td>1</td>\n",
       "      <td>1</td>\n",
       "      <td>0</td>\n",
       "      <td>0</td>\n",
       "      <td>...</td>\n",
       "      <td>0</td>\n",
       "      <td>0</td>\n",
       "      <td>0</td>\n",
       "      <td>0</td>\n",
       "      <td>0</td>\n",
       "      <td>1</td>\n",
       "      <td>0</td>\n",
       "      <td>0</td>\n",
       "      <td>0</td>\n",
       "      <td>0</td>\n",
       "    </tr>\n",
       "    <tr>\n",
       "      <th>3</th>\n",
       "      <td>1</td>\n",
       "      <td>89.0</td>\n",
       "      <td>66.0</td>\n",
       "      <td>23.0</td>\n",
       "      <td>94.0</td>\n",
       "      <td>0.167</td>\n",
       "      <td>0</td>\n",
       "      <td>0</td>\n",
       "      <td>1</td>\n",
       "      <td>0</td>\n",
       "      <td>...</td>\n",
       "      <td>1</td>\n",
       "      <td>0</td>\n",
       "      <td>0</td>\n",
       "      <td>0</td>\n",
       "      <td>0</td>\n",
       "      <td>0</td>\n",
       "      <td>0</td>\n",
       "      <td>0</td>\n",
       "      <td>0</td>\n",
       "      <td>0</td>\n",
       "    </tr>\n",
       "    <tr>\n",
       "      <th>4</th>\n",
       "      <td>0</td>\n",
       "      <td>137.0</td>\n",
       "      <td>40.0</td>\n",
       "      <td>35.0</td>\n",
       "      <td>168.0</td>\n",
       "      <td>2.288</td>\n",
       "      <td>1</td>\n",
       "      <td>0</td>\n",
       "      <td>0</td>\n",
       "      <td>0</td>\n",
       "      <td>...</td>\n",
       "      <td>0</td>\n",
       "      <td>0</td>\n",
       "      <td>0</td>\n",
       "      <td>0</td>\n",
       "      <td>0</td>\n",
       "      <td>1</td>\n",
       "      <td>0</td>\n",
       "      <td>0</td>\n",
       "      <td>0</td>\n",
       "      <td>0</td>\n",
       "    </tr>\n",
       "  </tbody>\n",
       "</table>\n",
       "<p>5 rows × 22 columns</p>\n",
       "</div>"
      ],
      "text/plain": [
       "   Pregnancies  Glucose  BloodPressure  SkinThickness  Insulin  \\\n",
       "0            6    148.0           72.0           35.0    169.5   \n",
       "1            1     85.0           66.0           29.0    102.5   \n",
       "2            8    183.0           64.0           32.0    169.5   \n",
       "3            1     89.0           66.0           23.0     94.0   \n",
       "4            0    137.0           40.0           35.0    168.0   \n",
       "\n",
       "   DiabetesPedigreeFunction  Outcome  BMI_(18.198999999999998, 26.2]  \\\n",
       "0                     0.627        1                               0   \n",
       "1                     0.351        0                               0   \n",
       "2                     0.672        1                               1   \n",
       "3                     0.167        0                               0   \n",
       "4                     2.288        1                               0   \n",
       "\n",
       "   BMI_(26.2, 30.1]  BMI_(30.1, 33.72]  ...  Age_(20.999, 22.0]  \\\n",
       "0                 0                  1  ...                   0   \n",
       "1                 1                  0  ...                   0   \n",
       "2                 0                  0  ...                   0   \n",
       "3                 1                  0  ...                   1   \n",
       "4                 0                  0  ...                   0   \n",
       "\n",
       "   Age_(22.0, 23.0]  Age_(23.0, 25.0]  Age_(25.0, 27.0]  Age_(27.0, 29.0]  \\\n",
       "0                 0                 0                 0                 0   \n",
       "1                 0                 0                 0                 0   \n",
       "2                 0                 0                 0                 0   \n",
       "3                 0                 0                 0                 0   \n",
       "4                 0                 0                 0                 0   \n",
       "\n",
       "   Age_(29.0, 33.0]  Age_(33.0, 38.0]  Age_(38.0, 42.6]  Age_(42.6, 51.0]  \\\n",
       "0                 0                 0                 0                 1   \n",
       "1                 1                 0                 0                 0   \n",
       "2                 1                 0                 0                 0   \n",
       "3                 0                 0                 0                 0   \n",
       "4                 1                 0                 0                 0   \n",
       "\n",
       "   Age_(51.0, 81.0]  \n",
       "0                 0  \n",
       "1                 0  \n",
       "2                 0  \n",
       "3                 0  \n",
       "4                 0  \n",
       "\n",
       "[5 rows x 22 columns]"
      ]
     },
     "execution_count": 23,
     "metadata": {},
     "output_type": "execute_result"
    }
   ],
   "source": [
    "df.head()"
   ]
  },
  {
   "cell_type": "code",
   "execution_count": 24,
   "id": "diagnostic-venezuela",
   "metadata": {
    "execution": {
     "iopub.execute_input": "2021-06-22T19:19:45.416076Z",
     "iopub.status.busy": "2021-06-22T19:19:45.415284Z",
     "iopub.status.idle": "2021-06-22T19:19:45.602100Z",
     "shell.execute_reply": "2021-06-22T19:19:45.601234Z",
     "shell.execute_reply.started": "2021-06-22T18:42:26.275126Z"
    },
    "papermill": {
     "duration": 0.273505,
     "end_time": "2021-06-22T19:19:45.602251",
     "exception": false,
     "start_time": "2021-06-22T19:19:45.328746",
     "status": "completed"
    },
    "tags": []
   },
   "outputs": [],
   "source": [
    "# Dividing data into Train and Test\n",
    "from sklearn.model_selection import train_test_split\n",
    "X = df.drop('Outcome', axis=1)\n",
    "y = df['Outcome']\n",
    "X_train, X_test, y_train, y_test = train_test_split(X, y, test_size=0.3, random_state=42)"
   ]
  },
  {
   "cell_type": "code",
   "execution_count": 25,
   "id": "prime-frederick",
   "metadata": {
    "execution": {
     "iopub.execute_input": "2021-06-22T19:19:45.773635Z",
     "iopub.status.busy": "2021-06-22T19:19:45.773081Z",
     "iopub.status.idle": "2021-06-22T19:19:45.780065Z",
     "shell.execute_reply": "2021-06-22T19:19:45.780525Z",
     "shell.execute_reply.started": "2021-06-22T18:42:26.288833Z"
    },
    "papermill": {
     "duration": 0.096532,
     "end_time": "2021-06-22T19:19:45.780681",
     "exception": false,
     "start_time": "2021-06-22T19:19:45.684149",
     "status": "completed"
    },
    "tags": []
   },
   "outputs": [],
   "source": [
    "from sklearn.preprocessing import StandardScaler\n",
    "sc = StandardScaler()\n",
    "X_train = sc.fit_transform(X_train)\n",
    "X_test = sc.transform(X_test)"
   ]
  },
  {
   "cell_type": "code",
   "execution_count": 26,
   "id": "thick-truth",
   "metadata": {
    "execution": {
     "iopub.execute_input": "2021-06-22T19:19:45.948879Z",
     "iopub.status.busy": "2021-06-22T19:19:45.948185Z",
     "iopub.status.idle": "2021-06-22T19:19:46.293902Z",
     "shell.execute_reply": "2021-06-22T19:19:46.294407Z",
     "shell.execute_reply.started": "2021-06-22T18:42:26.306595Z"
    },
    "papermill": {
     "duration": 0.432085,
     "end_time": "2021-06-22T19:19:46.294579",
     "exception": false,
     "start_time": "2021-06-22T19:19:45.862494",
     "status": "completed"
    },
    "tags": []
   },
   "outputs": [],
   "source": [
    "from imblearn.over_sampling import SMOTE\n",
    "os = SMOTE(random_state=42)\n",
    "X_train,y_train = os.fit_resample(X_train, y_train.ravel())"
   ]
  },
  {
   "cell_type": "markdown",
   "id": "cellular-discipline",
   "metadata": {
    "papermill": {
     "duration": 0.081724,
     "end_time": "2021-06-22T19:19:46.507852",
     "exception": false,
     "start_time": "2021-06-22T19:19:46.426128",
     "status": "completed"
    },
    "tags": []
   },
   "source": [
    "<p style=\"font-family: 'Poppins', sans-serif; font-size: 16px;\">I observed that there is more data that has Outcome 0. This may lead our models predicting more of people not having Diabetes. So I use SMOTE.\n",
    "SMOTE is an oversampling technique where the synthetic samples are generated for the minority class. This algorithm helps to overcome the overfitting problem posed by random oversampling.</p>"
   ]
  },
  {
   "cell_type": "markdown",
   "id": "exclusive-camel",
   "metadata": {
    "papermill": {
     "duration": 0.080353,
     "end_time": "2021-06-22T19:19:46.669400",
     "exception": false,
     "start_time": "2021-06-22T19:19:46.589047",
     "status": "completed"
    },
    "tags": []
   },
   "source": [
    "<a id=\"section4\"></a>\n",
    "<h1 style=\"font-family: 'Poppins', sans-serif; font-size: 28px; text-align: left; color: #176087; background-color: #FDF0D5; padding: 25px; border-radius: 10px;\">3. Classification Models</h1>"
   ]
  },
  {
   "cell_type": "markdown",
   "id": "roman-extent",
   "metadata": {
    "papermill": {
     "duration": 0.081691,
     "end_time": "2021-06-22T19:19:46.832916",
     "exception": false,
     "start_time": "2021-06-22T19:19:46.751225",
     "status": "completed"
    },
    "tags": []
   },
   "source": [
    "<h1 style=\"font-family: 'Poppins', sans-serif; font-size: 20px; text-align: left; color: #oa2239; background-color: #C0FDFB; padding: 15px; border-radius: 40px\">Logistic Regression</h1>"
   ]
  },
  {
   "cell_type": "code",
   "execution_count": 27,
   "id": "genuine-charter",
   "metadata": {
    "execution": {
     "iopub.execute_input": "2021-06-22T19:19:47.001892Z",
     "iopub.status.busy": "2021-06-22T19:19:47.001246Z",
     "iopub.status.idle": "2021-06-22T19:19:47.003603Z",
     "shell.execute_reply": "2021-06-22T19:19:47.003007Z",
     "shell.execute_reply.started": "2021-06-22T18:42:26.319659Z"
    },
    "papermill": {
     "duration": 0.090105,
     "end_time": "2021-06-22T19:19:47.003739",
     "exception": false,
     "start_time": "2021-06-22T19:19:46.913634",
     "status": "completed"
    },
    "tags": []
   },
   "outputs": [],
   "source": [
    "from sklearn.linear_model import LogisticRegression\n",
    "from sklearn.metrics import confusion_matrix, classification_report, accuracy_score"
   ]
  },
  {
   "cell_type": "code",
   "execution_count": 28,
   "id": "composite-confirmation",
   "metadata": {
    "execution": {
     "iopub.execute_input": "2021-06-22T19:19:47.169233Z",
     "iopub.status.busy": "2021-06-22T19:19:47.168635Z",
     "iopub.status.idle": "2021-06-22T19:19:47.182522Z",
     "shell.execute_reply": "2021-06-22T19:19:47.183273Z",
     "shell.execute_reply.started": "2021-06-22T18:42:26.327077Z"
    },
    "papermill": {
     "duration": 0.098109,
     "end_time": "2021-06-22T19:19:47.183531",
     "exception": false,
     "start_time": "2021-06-22T19:19:47.085422",
     "status": "completed"
    },
    "tags": []
   },
   "outputs": [],
   "source": [
    "logmodel = LogisticRegression(max_iter=200)\n",
    "logmodel.fit(X_train, y_train)\n",
    "prediction1 = logmodel.predict(X_test)"
   ]
  },
  {
   "cell_type": "code",
   "execution_count": 29,
   "id": "identical-scenario",
   "metadata": {
    "execution": {
     "iopub.execute_input": "2021-06-22T19:19:47.408024Z",
     "iopub.status.busy": "2021-06-22T19:19:47.405931Z",
     "iopub.status.idle": "2021-06-22T19:19:47.418020Z",
     "shell.execute_reply": "2021-06-22T19:19:47.418559Z",
     "shell.execute_reply.started": "2021-06-22T18:42:26.355622Z"
    },
    "papermill": {
     "duration": 0.101888,
     "end_time": "2021-06-22T19:19:47.418724",
     "exception": false,
     "start_time": "2021-06-22T19:19:47.316836",
     "status": "completed"
    },
    "tags": []
   },
   "outputs": [
    {
     "name": "stdout",
     "output_type": "stream",
     "text": [
      "Confusion Matrix:\n",
      " [[116  35]\n",
      " [ 18  62]]\n",
      "\n",
      "\n",
      "Classification Report:\n",
      "               precision    recall  f1-score   support\n",
      "\n",
      "           0       0.87      0.77      0.81       151\n",
      "           1       0.64      0.78      0.70        80\n",
      "\n",
      "    accuracy                           0.77       231\n",
      "   macro avg       0.75      0.77      0.76       231\n",
      "weighted avg       0.79      0.77      0.77       231\n",
      "\n"
     ]
    }
   ],
   "source": [
    "print('Confusion Matrix:\\n', confusion_matrix(y_test, prediction1))\n",
    "print('\\n')\n",
    "print('Classification Report:\\n', classification_report(y_test, prediction1))"
   ]
  },
  {
   "cell_type": "markdown",
   "id": "floppy-privilege",
   "metadata": {
    "papermill": {
     "duration": 0.081096,
     "end_time": "2021-06-22T19:19:47.582877",
     "exception": false,
     "start_time": "2021-06-22T19:19:47.501781",
     "status": "completed"
    },
    "tags": []
   },
   "source": [
    "<h1 style=\"font-family: 'Poppins', sans-serif; font-size: 20px; text-align: left; color: #oa2239; background-color: #C0FDFB; padding: 15px; border-radius: 40px\">K Nearest Neighbors</h1>"
   ]
  },
  {
   "cell_type": "code",
   "execution_count": 30,
   "id": "italic-indian",
   "metadata": {
    "execution": {
     "iopub.execute_input": "2021-06-22T19:19:47.767737Z",
     "iopub.status.busy": "2021-06-22T19:19:47.767095Z",
     "iopub.status.idle": "2021-06-22T19:19:47.772820Z",
     "shell.execute_reply": "2021-06-22T19:19:47.773272Z",
     "shell.execute_reply.started": "2021-06-22T18:42:26.388818Z"
    },
    "papermill": {
     "duration": 0.108323,
     "end_time": "2021-06-22T19:19:47.773463",
     "exception": false,
     "start_time": "2021-06-22T19:19:47.665140",
     "status": "completed"
    },
    "tags": []
   },
   "outputs": [],
   "source": [
    "from sklearn.neighbors import KNeighborsClassifier"
   ]
  },
  {
   "cell_type": "code",
   "execution_count": 31,
   "id": "determined-postcard",
   "metadata": {
    "execution": {
     "iopub.execute_input": "2021-06-22T19:19:47.951856Z",
     "iopub.status.busy": "2021-06-22T19:19:47.950791Z",
     "iopub.status.idle": "2021-06-22T19:19:47.976649Z",
     "shell.execute_reply": "2021-06-22T19:19:47.977462Z",
     "shell.execute_reply.started": "2021-06-22T18:42:26.404155Z"
    },
    "papermill": {
     "duration": 0.114315,
     "end_time": "2021-06-22T19:19:47.977734",
     "exception": false,
     "start_time": "2021-06-22T19:19:47.863419",
     "status": "completed"
    },
    "tags": []
   },
   "outputs": [],
   "source": [
    "knn = KNeighborsClassifier(n_neighbors=1)\n",
    "knn.fit(X_train, y_train)\n",
    "prediction2 = knn.predict(X_test)"
   ]
  },
  {
   "cell_type": "code",
   "execution_count": 32,
   "id": "tracked-fleet",
   "metadata": {
    "execution": {
     "iopub.execute_input": "2021-06-22T19:19:48.195948Z",
     "iopub.status.busy": "2021-06-22T19:19:48.195309Z",
     "iopub.status.idle": "2021-06-22T19:19:48.204372Z",
     "shell.execute_reply": "2021-06-22T19:19:48.204883Z",
     "shell.execute_reply.started": "2021-06-22T18:42:26.441679Z"
    },
    "papermill": {
     "duration": 0.097845,
     "end_time": "2021-06-22T19:19:48.205083",
     "exception": false,
     "start_time": "2021-06-22T19:19:48.107238",
     "status": "completed"
    },
    "tags": []
   },
   "outputs": [
    {
     "name": "stdout",
     "output_type": "stream",
     "text": [
      "Confusion Matrix:\n",
      " [[113  38]\n",
      " [ 27  53]]\n",
      "\n",
      "\n",
      "Classification Report:\n",
      "               precision    recall  f1-score   support\n",
      "\n",
      "           0       0.81      0.75      0.78       151\n",
      "           1       0.58      0.66      0.62        80\n",
      "\n",
      "    accuracy                           0.72       231\n",
      "   macro avg       0.69      0.71      0.70       231\n",
      "weighted avg       0.73      0.72      0.72       231\n",
      "\n"
     ]
    }
   ],
   "source": [
    "print('Confusion Matrix:\\n', confusion_matrix(y_test, prediction2))\n",
    "print('\\n')\n",
    "print('Classification Report:\\n', classification_report(y_test, prediction2))"
   ]
  },
  {
   "cell_type": "code",
   "execution_count": 33,
   "id": "overall-variance",
   "metadata": {
    "execution": {
     "iopub.execute_input": "2021-06-22T19:19:48.368845Z",
     "iopub.status.busy": "2021-06-22T19:19:48.368310Z",
     "iopub.status.idle": "2021-06-22T19:19:49.205525Z",
     "shell.execute_reply": "2021-06-22T19:19:49.206439Z",
     "shell.execute_reply.started": "2021-06-22T18:42:26.472551Z"
    },
    "papermill": {
     "duration": 0.92129,
     "end_time": "2021-06-22T19:19:49.206662",
     "exception": false,
     "start_time": "2021-06-22T19:19:48.285372",
     "status": "completed"
    },
    "tags": []
   },
   "outputs": [],
   "source": [
    "error_rate = []\n",
    "\n",
    "for i in range(1,40):\n",
    "    knn = KNeighborsClassifier(n_neighbors=i)\n",
    "    knn.fit(X_train, y_train)\n",
    "    pred_i = knn.predict(X_test)\n",
    "    error_rate.append(np.mean(pred_i != y_test))"
   ]
  },
  {
   "cell_type": "code",
   "execution_count": 34,
   "id": "thousand-cursor",
   "metadata": {
    "execution": {
     "iopub.execute_input": "2021-06-22T19:19:49.569744Z",
     "iopub.status.busy": "2021-06-22T19:19:49.551303Z",
     "iopub.status.idle": "2021-06-22T19:19:49.688892Z",
     "shell.execute_reply": "2021-06-22T19:19:49.688407Z",
     "shell.execute_reply.started": "2021-06-22T18:42:27.324675Z"
    },
    "papermill": {
     "duration": 0.360006,
     "end_time": "2021-06-22T19:19:49.689067",
     "exception": false,
     "start_time": "2021-06-22T19:19:49.329061",
     "status": "completed"
    },
    "tags": []
   },
   "outputs": [
    {
     "data": {
      "image/png": "[encoded data removed]",
      "text/plain": [
       "<Figure size 720x432 with 1 Axes>"
      ]
     },
     "metadata": {
      "needs_background": "light"
     },
     "output_type": "display_data"
    }
   ],
   "source": [
    "plt.figure(figsize=(10,6))\n",
    "plt.plot(range(1,40), error_rate, color='blue', linestyle='--', marker='o', markerfacecolor='red', markersize=10)\n",
    "plt.title('Error Rate vs K value')\n",
    "plt.xlabel = ('K')\n",
    "plt.ylabel = ('Error Rate')"
   ]
  },
  {
   "cell_type": "code",
   "execution_count": 35,
   "id": "surgical-astrology",
   "metadata": {
    "execution": {
     "iopub.execute_input": "2021-06-22T19:19:49.863094Z",
     "iopub.status.busy": "2021-06-22T19:19:49.862433Z",
     "iopub.status.idle": "2021-06-22T19:19:49.887266Z",
     "shell.execute_reply": "2021-06-22T19:19:49.888081Z",
     "shell.execute_reply.started": "2021-06-22T18:42:27.547333Z"
    },
    "papermill": {
     "duration": 0.115949,
     "end_time": "2021-06-22T19:19:49.888330",
     "exception": false,
     "start_time": "2021-06-22T19:19:49.772381",
     "status": "completed"
    },
    "tags": []
   },
   "outputs": [],
   "source": [
    "knn = KNeighborsClassifier(n_neighbors=4)\n",
    "knn.fit(X_train, y_train)\n",
    "prediction2 = knn.predict(X_test)"
   ]
  },
  {
   "cell_type": "code",
   "execution_count": 36,
   "id": "desperate-wrong",
   "metadata": {
    "execution": {
     "iopub.execute_input": "2021-06-22T19:19:50.110715Z",
     "iopub.status.busy": "2021-06-22T19:19:50.110061Z",
     "iopub.status.idle": "2021-06-22T19:19:50.118717Z",
     "shell.execute_reply": "2021-06-22T19:19:50.119343Z",
     "shell.execute_reply.started": "2021-06-22T18:42:27.578065Z"
    },
    "papermill": {
     "duration": 0.10152,
     "end_time": "2021-06-22T19:19:50.119517",
     "exception": false,
     "start_time": "2021-06-22T19:19:50.017997",
     "status": "completed"
    },
    "tags": []
   },
   "outputs": [
    {
     "name": "stdout",
     "output_type": "stream",
     "text": [
      "Confusion Matrix:\n",
      " [[116  35]\n",
      " [ 22  58]]\n",
      "\n",
      "\n",
      "Classification Report:\n",
      "               precision    recall  f1-score   support\n",
      "\n",
      "           0       0.84      0.77      0.80       151\n",
      "           1       0.62      0.72      0.67        80\n",
      "\n",
      "    accuracy                           0.75       231\n",
      "   macro avg       0.73      0.75      0.74       231\n",
      "weighted avg       0.77      0.75      0.76       231\n",
      "\n"
     ]
    }
   ],
   "source": [
    "print('Confusion Matrix:\\n', confusion_matrix(y_test, prediction2))\n",
    "print('\\n')\n",
    "print('Classification Report:\\n', classification_report(y_test, prediction2))"
   ]
  },
  {
   "cell_type": "markdown",
   "id": "leading-still",
   "metadata": {
    "papermill": {
     "duration": 0.082139,
     "end_time": "2021-06-22T19:19:50.288926",
     "exception": false,
     "start_time": "2021-06-22T19:19:50.206787",
     "status": "completed"
    },
    "tags": []
   },
   "source": [
    "<h1 style=\"font-family: 'Poppins', sans-serif; font-size: 20px; text-align: left; color: #oa2239; background-color: #C0FDFB; padding: 15px; border-radius: 40px\">Random Forest</h1>"
   ]
  },
  {
   "cell_type": "code",
   "execution_count": 37,
   "id": "northern-attraction",
   "metadata": {
    "execution": {
     "iopub.execute_input": "2021-06-22T19:19:50.453531Z",
     "iopub.status.busy": "2021-06-22T19:19:50.452873Z",
     "iopub.status.idle": "2021-06-22T19:19:50.456409Z",
     "shell.execute_reply": "2021-06-22T19:19:50.456931Z",
     "shell.execute_reply.started": "2021-06-22T18:42:27.596447Z"
    },
    "papermill": {
     "duration": 0.087684,
     "end_time": "2021-06-22T19:19:50.457141",
     "exception": false,
     "start_time": "2021-06-22T19:19:50.369457",
     "status": "completed"
    },
    "tags": []
   },
   "outputs": [],
   "source": [
    "from sklearn.ensemble import RandomForestClassifier"
   ]
  },
  {
   "cell_type": "code",
   "execution_count": 38,
   "id": "crazy-yellow",
   "metadata": {
    "execution": {
     "iopub.execute_input": "2021-06-22T19:19:50.634540Z",
     "iopub.status.busy": "2021-06-22T19:19:50.629379Z",
     "iopub.status.idle": "2021-06-22T19:19:51.066209Z",
     "shell.execute_reply": "2021-06-22T19:19:51.065671Z",
     "shell.execute_reply.started": "2021-06-22T18:42:27.608011Z"
    },
    "papermill": {
     "duration": 0.525903,
     "end_time": "2021-06-22T19:19:51.066358",
     "exception": false,
     "start_time": "2021-06-22T19:19:50.540455",
     "status": "completed"
    },
    "tags": []
   },
   "outputs": [],
   "source": [
    "rfc = RandomForestClassifier(n_estimators=200)\n",
    "rfc.fit(X_train, y_train)\n",
    "prediction3 = rfc.predict(X_test)"
   ]
  },
  {
   "cell_type": "code",
   "execution_count": 39,
   "id": "handmade-phoenix",
   "metadata": {
    "execution": {
     "iopub.execute_input": "2021-06-22T19:19:51.236582Z",
     "iopub.status.busy": "2021-06-22T19:19:51.235617Z",
     "iopub.status.idle": "2021-06-22T19:19:51.246177Z",
     "shell.execute_reply": "2021-06-22T19:19:51.245653Z",
     "shell.execute_reply.started": "2021-06-22T18:42:28.112220Z"
    },
    "papermill": {
     "duration": 0.099678,
     "end_time": "2021-06-22T19:19:51.246320",
     "exception": false,
     "start_time": "2021-06-22T19:19:51.146642",
     "status": "completed"
    },
    "tags": []
   },
   "outputs": [
    {
     "name": "stdout",
     "output_type": "stream",
     "text": [
      "Confusion Matrix:\n",
      " [[128  23]\n",
      " [ 11  69]]\n",
      "\n",
      "\n",
      "Classification Report:\n",
      "               precision    recall  f1-score   support\n",
      "\n",
      "           0       0.92      0.85      0.88       151\n",
      "           1       0.75      0.86      0.80        80\n",
      "\n",
      "    accuracy                           0.85       231\n",
      "   macro avg       0.84      0.86      0.84       231\n",
      "weighted avg       0.86      0.85      0.85       231\n",
      "\n"
     ]
    }
   ],
   "source": [
    "print('Confusion Matrix:\\n', confusion_matrix(y_test, prediction3))\n",
    "print('\\n')\n",
    "print('Classification Report:\\n', classification_report(y_test, prediction3))"
   ]
  },
  {
   "cell_type": "markdown",
   "id": "perfect-behavior",
   "metadata": {
    "papermill": {
     "duration": 0.086172,
     "end_time": "2021-06-22T19:19:51.418565",
     "exception": false,
     "start_time": "2021-06-22T19:19:51.332393",
     "status": "completed"
    },
    "tags": []
   },
   "source": [
    "<h1 style=\"font-family: 'Poppins', sans-serif; font-size: 20px; text-align: left; color: #oa2239; \">Hyperparameter Tuning for Random Forest</h1>"
   ]
  },
  {
   "cell_type": "code",
   "execution_count": 40,
   "id": "according-better",
   "metadata": {
    "execution": {
     "iopub.execute_input": "2021-06-22T19:19:51.588048Z",
     "iopub.status.busy": "2021-06-22T19:19:51.587123Z",
     "iopub.status.idle": "2021-06-22T19:19:51.592186Z",
     "shell.execute_reply": "2021-06-22T19:19:51.592643Z",
     "shell.execute_reply.started": "2021-06-22T18:42:28.128240Z"
    },
    "papermill": {
     "duration": 0.091326,
     "end_time": "2021-06-22T19:19:51.592795",
     "exception": false,
     "start_time": "2021-06-22T19:19:51.501469",
     "status": "completed"
    },
    "tags": []
   },
   "outputs": [],
   "source": [
    "n_estimators = [int(x) for x in np.linspace(start = 10, stop = 80, num=10)] \n",
    "max_features = ['auto', 'sqrt']\n",
    "max_depth = [2,4]\n",
    "min_samples_split = [2,5]\n",
    "min_samples_leaf = [1,2]\n",
    "bootstrap = [True, False]"
   ]
  },
  {
   "cell_type": "code",
   "execution_count": 41,
   "id": "ignored-output",
   "metadata": {
    "execution": {
     "iopub.execute_input": "2021-06-22T19:19:51.795152Z",
     "iopub.status.busy": "2021-06-22T19:19:51.794483Z",
     "iopub.status.idle": "2021-06-22T19:19:51.800154Z",
     "shell.execute_reply": "2021-06-22T19:19:51.799669Z",
     "shell.execute_reply.started": "2021-06-22T18:42:28.136539Z"
    },
    "papermill": {
     "duration": 0.107239,
     "end_time": "2021-06-22T19:19:51.800286",
     "exception": false,
     "start_time": "2021-06-22T19:19:51.693047",
     "status": "completed"
    },
    "tags": []
   },
   "outputs": [],
   "source": [
    "param_grid = {'n_estimators': n_estimators,\n",
    "              'max_features': max_features,\n",
    "              'max_depth': max_depth,\n",
    "              'min_samples_split': min_samples_split,\n",
    "              'min_samples_leaf': min_samples_leaf,\n",
    "              'bootstrap': bootstrap}"
   ]
  },
  {
   "cell_type": "code",
   "execution_count": 42,
   "id": "vietnamese-chorus",
   "metadata": {
    "execution": {
     "iopub.execute_input": "2021-06-22T19:19:51.987492Z",
     "iopub.status.busy": "2021-06-22T19:19:51.986853Z",
     "iopub.status.idle": "2021-06-22T19:19:51.990011Z",
     "shell.execute_reply": "2021-06-22T19:19:51.989467Z",
     "shell.execute_reply.started": "2021-06-22T18:42:28.147842Z"
    },
    "papermill": {
     "duration": 0.100007,
     "end_time": "2021-06-22T19:19:51.990137",
     "exception": false,
     "start_time": "2021-06-22T19:19:51.890130",
     "status": "completed"
    },
    "tags": []
   },
   "outputs": [],
   "source": [
    "from sklearn.model_selection import GridSearchCV"
   ]
  },
  {
   "cell_type": "code",
   "execution_count": 43,
   "id": "fitted-yemen",
   "metadata": {
    "execution": {
     "iopub.execute_input": "2021-06-22T19:19:52.163302Z",
     "iopub.status.busy": "2021-06-22T19:19:52.162691Z",
     "iopub.status.idle": "2021-06-22T19:19:52.165676Z",
     "shell.execute_reply": "2021-06-22T19:19:52.165087Z",
     "shell.execute_reply.started": "2021-06-22T18:42:28.157900Z"
    },
    "papermill": {
     "duration": 0.092023,
     "end_time": "2021-06-22T19:19:52.165803",
     "exception": false,
     "start_time": "2021-06-22T19:19:52.073780",
     "status": "completed"
    },
    "tags": []
   },
   "outputs": [],
   "source": [
    "grid_search = GridSearchCV(estimator = rfc, param_grid = param_grid, verbose=3, cv=10, n_jobs = 4)"
   ]
  },
  {
   "cell_type": "code",
   "execution_count": 44,
   "id": "about-daniel",
   "metadata": {
    "execution": {
     "iopub.execute_input": "2021-06-22T19:19:52.339096Z",
     "iopub.status.busy": "2021-06-22T19:19:52.338519Z",
     "iopub.status.idle": "2021-06-22T19:21:36.107990Z",
     "shell.execute_reply": "2021-06-22T19:21:36.108559Z",
     "shell.execute_reply.started": "2021-06-22T18:42:28.169243Z"
    },
    "papermill": {
     "duration": 103.858673,
     "end_time": "2021-06-22T19:21:36.108773",
     "exception": false,
     "start_time": "2021-06-22T19:19:52.250100",
     "status": "completed"
    },
    "tags": []
   },
   "outputs": [
    {
     "name": "stdout",
     "output_type": "stream",
     "text": [
      "Fitting 10 folds for each of 320 candidates, totalling 3200 fits\n"
     ]
    },
    {
     "data": {
      "text/plain": [
       "GridSearchCV(cv=10, estimator=RandomForestClassifier(n_estimators=200),\n",
       "             n_jobs=4,\n",
       "             param_grid={'bootstrap': [True, False], 'max_depth': [2, 4],\n",
       "                         'max_features': ['auto', 'sqrt'],\n",
       "                         'min_samples_leaf': [1, 2],\n",
       "                         'min_samples_split': [2, 5],\n",
       "                         'n_estimators': [10, 17, 25, 33, 41, 48, 56, 64, 72,\n",
       "                                          80]},\n",
       "             verbose=3)"
      ]
     },
     "execution_count": 44,
     "metadata": {},
     "output_type": "execute_result"
    }
   ],
   "source": [
    "grid_search.fit(X_train, y_train)"
   ]
  },
  {
   "cell_type": "code",
   "execution_count": 45,
   "id": "occupational-happening",
   "metadata": {
    "execution": {
     "iopub.execute_input": "2021-06-22T19:21:36.283171Z",
     "iopub.status.busy": "2021-06-22T19:21:36.282153Z",
     "iopub.status.idle": "2021-06-22T19:21:36.290903Z",
     "shell.execute_reply": "2021-06-22T19:21:36.291462Z",
     "shell.execute_reply.started": "2021-06-22T18:44:11.757004Z"
    },
    "papermill": {
     "duration": 0.097783,
     "end_time": "2021-06-22T19:21:36.291618",
     "exception": false,
     "start_time": "2021-06-22T19:21:36.193835",
     "status": "completed"
    },
    "tags": []
   },
   "outputs": [],
   "source": [
    "grid_predictions = grid_search.predict(X_test)"
   ]
  },
  {
   "cell_type": "code",
   "execution_count": 46,
   "id": "stuffed-buying",
   "metadata": {
    "execution": {
     "iopub.execute_input": "2021-06-22T19:21:36.465302Z",
     "iopub.status.busy": "2021-06-22T19:21:36.464333Z",
     "iopub.status.idle": "2021-06-22T19:21:36.477296Z",
     "shell.execute_reply": "2021-06-22T19:21:36.476800Z",
     "shell.execute_reply.started": "2021-06-22T18:44:11.766459Z"
    },
    "papermill": {
     "duration": 0.101919,
     "end_time": "2021-06-22T19:21:36.477423",
     "exception": false,
     "start_time": "2021-06-22T19:21:36.375504",
     "status": "completed"
    },
    "tags": []
   },
   "outputs": [
    {
     "name": "stdout",
     "output_type": "stream",
     "text": [
      "Confusion Matrix: \n",
      " [[124  27]\n",
      " [  9  71]]\n",
      "\n",
      "\n",
      "              precision    recall  f1-score   support\n",
      "\n",
      "           0       0.93      0.82      0.87       151\n",
      "           1       0.72      0.89      0.80        80\n",
      "\n",
      "    accuracy                           0.84       231\n",
      "   macro avg       0.83      0.85      0.84       231\n",
      "weighted avg       0.86      0.84      0.85       231\n",
      "\n"
     ]
    }
   ],
   "source": [
    "print(\"Confusion Matrix: \\n\", confusion_matrix(y_test, grid_predictions))\n",
    "print(\"\\n\")\n",
    "print(classification_report(y_test, grid_predictions))"
   ]
  },
  {
   "cell_type": "markdown",
   "id": "fifth-genius",
   "metadata": {
    "papermill": {
     "duration": 0.084194,
     "end_time": "2021-06-22T19:21:36.647008",
     "exception": false,
     "start_time": "2021-06-22T19:21:36.562814",
     "status": "completed"
    },
    "tags": []
   },
   "source": [
    "Did not have much benefit from tuning the random forest."
   ]
  },
  {
   "cell_type": "markdown",
   "id": "victorian-ferry",
   "metadata": {
    "papermill": {
     "duration": 0.084513,
     "end_time": "2021-06-22T19:21:36.814982",
     "exception": false,
     "start_time": "2021-06-22T19:21:36.730469",
     "status": "completed"
    },
    "tags": []
   },
   "source": [
    "<h1 style=\"font-family: 'Poppins', sans-serif; font-size: 20px; text-align: left; color: #oa2239; background-color: #C0FDFB; padding: 15px; border-radius: 40px\">Support Vector Machines</h1>"
   ]
  },
  {
   "cell_type": "code",
   "execution_count": 47,
   "id": "phantom-upgrade",
   "metadata": {
    "execution": {
     "iopub.execute_input": "2021-06-22T19:21:36.988688Z",
     "iopub.status.busy": "2021-06-22T19:21:36.988099Z",
     "iopub.status.idle": "2021-06-22T19:21:36.989740Z",
     "shell.execute_reply": "2021-06-22T19:21:36.990257Z",
     "shell.execute_reply.started": "2021-06-22T18:44:11.786133Z"
    },
    "papermill": {
     "duration": 0.09034,
     "end_time": "2021-06-22T19:21:36.990432",
     "exception": false,
     "start_time": "2021-06-22T19:21:36.900092",
     "status": "completed"
    },
    "tags": []
   },
   "outputs": [],
   "source": [
    "from sklearn.svm import SVC"
   ]
  },
  {
   "cell_type": "code",
   "execution_count": 48,
   "id": "interested-supplement",
   "metadata": {
    "execution": {
     "iopub.execute_input": "2021-06-22T19:21:37.165622Z",
     "iopub.status.busy": "2021-06-22T19:21:37.165016Z",
     "iopub.status.idle": "2021-06-22T19:21:37.194024Z",
     "shell.execute_reply": "2021-06-22T19:21:37.193437Z",
     "shell.execute_reply.started": "2021-06-22T18:44:11.796393Z"
    },
    "papermill": {
     "duration": 0.116671,
     "end_time": "2021-06-22T19:21:37.194152",
     "exception": false,
     "start_time": "2021-06-22T19:21:37.077481",
     "status": "completed"
    },
    "tags": []
   },
   "outputs": [],
   "source": [
    "svc_model = SVC()\n",
    "svc_model.fit(X_train, y_train)\n",
    "predictions4 = svc_model.predict(X_test)"
   ]
  },
  {
   "cell_type": "code",
   "execution_count": 49,
   "id": "exposed-window",
   "metadata": {
    "execution": {
     "iopub.execute_input": "2021-06-22T19:21:37.365645Z",
     "iopub.status.busy": "2021-06-22T19:21:37.364595Z",
     "iopub.status.idle": "2021-06-22T19:21:37.374408Z",
     "shell.execute_reply": "2021-06-22T19:21:37.374861Z",
     "shell.execute_reply.started": "2021-06-22T18:44:11.835026Z"
    },
    "papermill": {
     "duration": 0.097884,
     "end_time": "2021-06-22T19:21:37.375049",
     "exception": false,
     "start_time": "2021-06-22T19:21:37.277165",
     "status": "completed"
    },
    "tags": []
   },
   "outputs": [
    {
     "name": "stdout",
     "output_type": "stream",
     "text": [
      "Confusion Matrix:\n",
      " [[114  37]\n",
      " [ 19  61]]\n",
      "\n",
      "\n",
      "Classification Report:\n",
      "               precision    recall  f1-score   support\n",
      "\n",
      "           0       0.86      0.75      0.80       151\n",
      "           1       0.62      0.76      0.69        80\n",
      "\n",
      "    accuracy                           0.76       231\n",
      "   macro avg       0.74      0.76      0.74       231\n",
      "weighted avg       0.78      0.76      0.76       231\n",
      "\n"
     ]
    }
   ],
   "source": [
    "print('Confusion Matrix:\\n', confusion_matrix(y_test, predictions4))\n",
    "print('\\n')\n",
    "print('Classification Report:\\n', classification_report(y_test, predictions4))"
   ]
  },
  {
   "cell_type": "markdown",
   "id": "copyrighted-cargo",
   "metadata": {
    "papermill": {
     "duration": 0.085781,
     "end_time": "2021-06-22T19:21:37.546469",
     "exception": false,
     "start_time": "2021-06-22T19:21:37.460688",
     "status": "completed"
    },
    "tags": []
   },
   "source": [
    "<h1 style=\"font-family: 'Poppins', sans-serif; font-size: 20px; text-align: left; color: #oa2239; \">Hyperparameter Tuning for SVM</h1>"
   ]
  },
  {
   "cell_type": "code",
   "execution_count": 50,
   "id": "later-plasma",
   "metadata": {
    "execution": {
     "iopub.execute_input": "2021-06-22T19:21:37.723882Z",
     "iopub.status.busy": "2021-06-22T19:21:37.723047Z",
     "iopub.status.idle": "2021-06-22T19:21:40.226570Z",
     "shell.execute_reply": "2021-06-22T19:21:40.226955Z",
     "shell.execute_reply.started": "2021-06-22T18:52:13.361443Z"
    },
    "papermill": {
     "duration": 2.59435,
     "end_time": "2021-06-22T19:21:40.227128",
     "exception": false,
     "start_time": "2021-06-22T19:21:37.632778",
     "status": "completed"
    },
    "tags": []
   },
   "outputs": [
    {
     "name": "stdout",
     "output_type": "stream",
     "text": [
      "Fitting 10 folds for each of 10 candidates, totalling 100 fits\n",
      "[CV] END .....................................C=1, gamma=0.1; total time=   0.0s\n",
      "[CV] END .....................................C=1, gamma=0.1; total time=   0.0s\n",
      "[CV] END .....................................C=1, gamma=0.1; total time=   0.0s\n",
      "[CV] END .....................................C=1, gamma=0.1; total time=   0.0s\n",
      "[CV] END .....................................C=1, gamma=0.1; total time=   0.0s\n",
      "[CV] END .....................................C=1, gamma=0.1; total time=   0.0s\n",
      "[CV] END .....................................C=1, gamma=0.1; total time=   0.0s\n",
      "[CV] END .....................................C=1, gamma=0.1; total time=   0.0s\n",
      "[CV] END .....................................C=1, gamma=0.1; total time=   0.0s\n",
      "[CV] END .....................................C=1, gamma=0.1; total time=   0.0s\n",
      "[CV] END ..................................C=100, gamma=0.01; total time=   0.0s\n",
      "[CV] END ..................................C=100, gamma=0.01; total time=   0.0s\n",
      "[CV] END ..................................C=100, gamma=0.01; total time=   0.0s\n",
      "[CV] END ..................................C=100, gamma=0.01; total time=   0.0s\n",
      "[CV] END ..................................C=100, gamma=0.01; total time=   0.0s\n",
      "[CV] END ..................................C=100, gamma=0.01; total time=   0.0s\n",
      "[CV] END ..................................C=100, gamma=0.01; total time=   0.0s\n",
      "[CV] END ..................................C=100, gamma=0.01; total time=   0.0s\n",
      "[CV] END ..................................C=100, gamma=0.01; total time=   0.0s\n",
      "[CV] END ..................................C=100, gamma=0.01; total time=   0.0s\n",
      "[CV] END ..................................C=0.1, gamma=0.01; total time=   0.0s\n",
      "[CV] END ..................................C=0.1, gamma=0.01; total time=   0.0s\n",
      "[CV] END ..................................C=0.1, gamma=0.01; total time=   0.0s\n",
      "[CV] END ..................................C=0.1, gamma=0.01; total time=   0.0s\n",
      "[CV] END ..................................C=0.1, gamma=0.01; total time=   0.0s\n",
      "[CV] END ..................................C=0.1, gamma=0.01; total time=   0.0s\n",
      "[CV] END ..................................C=0.1, gamma=0.01; total time=   0.0s\n",
      "[CV] END ..................................C=0.1, gamma=0.01; total time=   0.0s\n",
      "[CV] END ..................................C=0.1, gamma=0.01; total time=   0.0s\n",
      "[CV] END ..................................C=0.1, gamma=0.01; total time=   0.0s\n",
      "[CV] END ....................................C=1000, gamma=1; total time=   0.0s\n",
      "[CV] END ....................................C=1000, gamma=1; total time=   0.0s\n",
      "[CV] END ....................................C=1000, gamma=1; total time=   0.0s\n",
      "[CV] END ....................................C=1000, gamma=1; total time=   0.0s\n",
      "[CV] END ....................................C=1000, gamma=1; total time=   0.0s\n",
      "[CV] END ....................................C=1000, gamma=1; total time=   0.0s\n",
      "[CV] END ....................................C=1000, gamma=1; total time=   0.0s\n",
      "[CV] END ....................................C=1000, gamma=1; total time=   0.0s\n",
      "[CV] END ....................................C=1000, gamma=1; total time=   0.0s\n",
      "[CV] END ....................................C=1000, gamma=1; total time=   0.0s\n",
      "[CV] END .....................................C=0.1, gamma=1; total time=   0.0s\n",
      "[CV] END .....................................C=0.1, gamma=1; total time=   0.0s\n",
      "[CV] END .....................................C=0.1, gamma=1; total time=   0.0s\n",
      "[CV] END .....................................C=0.1, gamma=1; total time=   0.0s\n",
      "[CV] END .....................................C=0.1, gamma=1; total time=   0.0s\n",
      "[CV] END .....................................C=0.1, gamma=1; total time=   0.0s\n",
      "[CV] END .....................................C=0.1, gamma=1; total time=   0.0s\n",
      "[CV] END .....................................C=0.1, gamma=1; total time=   0.0s\n",
      "[CV] END .....................................C=0.1, gamma=1; total time=   0.0s\n",
      "[CV] END .....................................C=0.1, gamma=1; total time=   0.0s\n",
      "[CV] END .....................................C=100, gamma=1; total time=   0.0s\n",
      "[CV] END .....................................C=100, gamma=1; total time=   0.0s\n",
      "[CV] END .....................................C=100, gamma=1; total time=   0.0s\n",
      "[CV] END .....................................C=100, gamma=1; total time=   0.0s\n",
      "[CV] END .....................................C=100, gamma=1; total time=   0.0s\n",
      "[CV] END .....................................C=100, gamma=1; total time=   0.0s\n",
      "[CV] END .....................................C=100, gamma=1; total time=   0.0s\n",
      "[CV] END .....................................C=100, gamma=1; total time=   0.0s\n",
      "[CV] END .....................................C=100, gamma=1; total time=   0.0s\n",
      "[CV] END .....................................C=100, gamma=1; total time=   0.0s\n",
      "[CV] END ...................................C=10, gamma=0.01; total time=   0.0s\n",
      "[CV] END ...................................C=10, gamma=0.01; total time=   0.0s\n",
      "[CV] END ...................................C=10, gamma=0.01; total time=   0.0s\n",
      "[CV] END ...................................C=10, gamma=0.01; total time=   0.0s\n",
      "[CV] END ...................................C=10, gamma=0.01; total time=   0.0s\n",
      "[CV] END ...................................C=10, gamma=0.01; total time=   0.0s\n",
      "[CV] END ...................................C=10, gamma=0.01; total time=   0.0s\n",
      "[CV] END ...................................C=10, gamma=0.01; total time=   0.0s\n",
      "[CV] END ...................................C=10, gamma=0.01; total time=   0.0s\n",
      "[CV] END ...................................C=10, gamma=0.01; total time=   0.0s\n",
      "[CV] END ...................................C=0.1, gamma=0.1; total time=   0.0s\n",
      "[CV] END ...................................C=0.1, gamma=0.1; total time=   0.0s\n",
      "[CV] END ...................................C=0.1, gamma=0.1; total time=   0.0s\n",
      "[CV] END ...................................C=0.1, gamma=0.1; total time=   0.0s\n",
      "[CV] END ...................................C=0.1, gamma=0.1; total time=   0.0s\n",
      "[CV] END ...................................C=0.1, gamma=0.1; total time=   0.0s\n",
      "[CV] END ...................................C=0.1, gamma=0.1; total time=   0.0s\n",
      "[CV] END ...................................C=0.1, gamma=0.1; total time=   0.0s\n",
      "[CV] END ...................................C=0.1, gamma=0.1; total time=   0.0s\n",
      "[CV] END ...................................C=0.1, gamma=0.1; total time=   0.0s\n",
      "[CV] END ...................................C=1, gamma=0.001; total time=   0.0s\n",
      "[CV] END ...................................C=1, gamma=0.001; total time=   0.0s\n",
      "[CV] END ...................................C=1, gamma=0.001; total time=   0.0s\n",
      "[CV] END ...................................C=1, gamma=0.001; total time=   0.0s\n",
      "[CV] END ...................................C=1, gamma=0.001; total time=   0.0s\n",
      "[CV] END ...................................C=1, gamma=0.001; total time=   0.0s\n",
      "[CV] END ...................................C=1, gamma=0.001; total time=   0.0s\n",
      "[CV] END ...................................C=1, gamma=0.001; total time=   0.0s\n",
      "[CV] END ...................................C=1, gamma=0.001; total time=   0.0s\n",
      "[CV] END ...................................C=1, gamma=0.001; total time=   0.0s\n",
      "[CV] END ..................................C=10, gamma=0.001; total time=   0.0s\n",
      "[CV] END ..................................C=10, gamma=0.001; total time=   0.0s\n",
      "[CV] END ..................................C=10, gamma=0.001; total time=   0.0s\n",
      "[CV] END ..................................C=10, gamma=0.001; total time=   0.0s\n",
      "[CV] END ..................................C=10, gamma=0.001; total time=   0.0s\n",
      "[CV] END ..................................C=10, gamma=0.001; total time=   0.0s\n",
      "[CV] END ..................................C=10, gamma=0.001; total time=   0.0s\n",
      "[CV] END ..................................C=10, gamma=0.001; total time=   0.0s\n",
      "[CV] END ..................................C=10, gamma=0.001; total time=   0.0s\n",
      "[CV] END ..................................C=10, gamma=0.001; total time=   0.0s\n"
     ]
    },
    {
     "data": {
      "text/plain": [
       "RandomizedSearchCV(cv=10, estimator=SVC(),\n",
       "                   param_distributions={'C': [0.1, 1, 10, 100, 1000],\n",
       "                                        'gamma': [1, 0.1, 0.01, 0.001, 0.0001]},\n",
       "                   verbose=2)"
      ]
     },
     "execution_count": 50,
     "metadata": {},
     "output_type": "execute_result"
    }
   ],
   "source": [
    "param_grid_svm = {'C':[0.1, 1, 10, 100, 1000], 'gamma':[1, 0.1, 0.01, 0.001, 0.0001]}\n",
    "from sklearn.model_selection import RandomizedSearchCV\n",
    "rndm_cv = RandomizedSearchCV(estimator=svc_model, param_distributions=param_grid_svm, cv=10, verbose=2)\n",
    "rndm_cv.fit(X_train, y_train)"
   ]
  },
  {
   "cell_type": "code",
   "execution_count": 51,
   "id": "assured-detective",
   "metadata": {
    "execution": {
     "iopub.execute_input": "2021-06-22T19:21:40.407483Z",
     "iopub.status.busy": "2021-06-22T19:21:40.406268Z",
     "iopub.status.idle": "2021-06-22T19:21:40.413532Z",
     "shell.execute_reply": "2021-06-22T19:21:40.413960Z",
     "shell.execute_reply.started": "2021-06-22T18:52:33.659261Z"
    },
    "papermill": {
     "duration": 0.09976,
     "end_time": "2021-06-22T19:21:40.414133",
     "exception": false,
     "start_time": "2021-06-22T19:21:40.314373",
     "status": "completed"
    },
    "tags": []
   },
   "outputs": [],
   "source": [
    "rndm_preds = rndm_cv.predict(X_test)"
   ]
  },
  {
   "cell_type": "code",
   "execution_count": 52,
   "id": "downtown-tender",
   "metadata": {
    "execution": {
     "iopub.execute_input": "2021-06-22T19:21:40.600637Z",
     "iopub.status.busy": "2021-06-22T19:21:40.597903Z",
     "iopub.status.idle": "2021-06-22T19:21:40.603913Z",
     "shell.execute_reply": "2021-06-22T19:21:40.603393Z",
     "shell.execute_reply.started": "2021-06-22T18:52:40.764742Z"
    },
    "papermill": {
     "duration": 0.102495,
     "end_time": "2021-06-22T19:21:40.604068",
     "exception": false,
     "start_time": "2021-06-22T19:21:40.501573",
     "status": "completed"
    },
    "tags": []
   },
   "outputs": [
    {
     "name": "stdout",
     "output_type": "stream",
     "text": [
      "Confusion Matrix:\n",
      " [[119  32]\n",
      " [ 20  60]]\n",
      "\n",
      "\n",
      "Classification Report:\n",
      "               precision    recall  f1-score   support\n",
      "\n",
      "           0       0.86      0.79      0.82       151\n",
      "           1       0.65      0.75      0.70        80\n",
      "\n",
      "    accuracy                           0.77       231\n",
      "   macro avg       0.75      0.77      0.76       231\n",
      "weighted avg       0.79      0.77      0.78       231\n",
      "\n"
     ]
    }
   ],
   "source": [
    "print('Confusion Matrix:\\n', confusion_matrix(y_test, rndm_preds))\n",
    "print('\\n')\n",
    "print('Classification Report:\\n', classification_report(y_test, rndm_preds))"
   ]
  },
  {
   "cell_type": "markdown",
   "id": "illegal-cleaning",
   "metadata": {
    "papermill": {
     "duration": 0.087881,
     "end_time": "2021-06-22T19:21:40.781060",
     "exception": false,
     "start_time": "2021-06-22T19:21:40.693179",
     "status": "completed"
    },
    "tags": []
   },
   "source": [
    "<h1 style=\"font-family: 'Poppins', sans-serif; font-size: 20px; text-align: left; color: #oa2239; background-color: #C0FDFB; padding: 15px; border-radius: 40px\">XG Boost</h1>"
   ]
  },
  {
   "cell_type": "code",
   "execution_count": 53,
   "id": "special-dimension",
   "metadata": {
    "execution": {
     "iopub.execute_input": "2021-06-22T19:21:40.966812Z",
     "iopub.status.busy": "2021-06-22T19:21:40.966034Z",
     "iopub.status.idle": "2021-06-22T19:21:41.037230Z",
     "shell.execute_reply": "2021-06-22T19:21:41.036541Z",
     "shell.execute_reply.started": "2021-06-22T18:44:11.848093Z"
    },
    "papermill": {
     "duration": 0.166478,
     "end_time": "2021-06-22T19:21:41.037361",
     "exception": false,
     "start_time": "2021-06-22T19:21:40.870883",
     "status": "completed"
    },
    "tags": []
   },
   "outputs": [],
   "source": [
    "from xgboost import XGBClassifier"
   ]
  },
  {
   "cell_type": "code",
   "execution_count": 54,
   "id": "national-anniversary",
   "metadata": {
    "execution": {
     "iopub.execute_input": "2021-06-22T19:21:41.229437Z",
     "iopub.status.busy": "2021-06-22T19:21:41.228396Z",
     "iopub.status.idle": "2021-06-22T19:21:41.393845Z",
     "shell.execute_reply": "2021-06-22T19:21:41.394479Z",
     "shell.execute_reply.started": "2021-06-22T18:44:11.854858Z"
    },
    "papermill": {
     "duration": 0.266678,
     "end_time": "2021-06-22T19:21:41.394700",
     "exception": false,
     "start_time": "2021-06-22T19:21:41.128022",
     "status": "completed"
    },
    "tags": []
   },
   "outputs": [
    {
     "name": "stdout",
     "output_type": "stream",
     "text": [
      "[19:21:41] WARNING: ../src/learner.cc:1095: Starting in XGBoost 1.3.0, the default evaluation metric used with the objective 'binary:logistic' was changed from 'error' to 'logloss'. Explicitly set eval_metric if you'd like to restore the old behavior.\n"
     ]
    },
    {
     "data": {
      "text/plain": [
       "XGBClassifier(base_score=0.5, booster='gbtree', colsample_bylevel=1,\n",
       "              colsample_bynode=1, colsample_bytree=1, gamma=0, gpu_id=-1,\n",
       "              importance_type='gain', interaction_constraints='',\n",
       "              learning_rate=0.1, max_delta_step=0, max_depth=5,\n",
       "              min_child_weight=1, missing=nan, monotone_constraints='()',\n",
       "              n_estimators=180, n_jobs=4, num_parallel_tree=1, random_state=0,\n",
       "              reg_alpha=0, reg_lambda=1, scale_pos_weight=1, subsample=1,\n",
       "              tree_method='exact', validate_parameters=1, verbosity=None)"
      ]
     },
     "execution_count": 54,
     "metadata": {},
     "output_type": "execute_result"
    }
   ],
   "source": [
    "xgb = XGBClassifier(booster = 'gbtree', learning_rate = 0.1, max_depth = 5, n_estimators = 180)\n",
    "xgb.fit(X_train, y_train)"
   ]
  },
  {
   "cell_type": "code",
   "execution_count": 55,
   "id": "moving-general",
   "metadata": {
    "execution": {
     "iopub.execute_input": "2021-06-22T19:21:41.582453Z",
     "iopub.status.busy": "2021-06-22T19:21:41.581591Z",
     "iopub.status.idle": "2021-06-22T19:21:41.585728Z",
     "shell.execute_reply": "2021-06-22T19:21:41.586241Z",
     "shell.execute_reply.started": "2021-06-22T18:44:12.021220Z"
    },
    "papermill": {
     "duration": 0.101945,
     "end_time": "2021-06-22T19:21:41.586432",
     "exception": false,
     "start_time": "2021-06-22T19:21:41.484487",
     "status": "completed"
    },
    "tags": []
   },
   "outputs": [],
   "source": [
    "xgb_preds = xgb.predict(X_test)"
   ]
  },
  {
   "cell_type": "code",
   "execution_count": 56,
   "id": "electric-street",
   "metadata": {
    "execution": {
     "iopub.execute_input": "2021-06-22T19:21:41.775750Z",
     "iopub.status.busy": "2021-06-22T19:21:41.774693Z",
     "iopub.status.idle": "2021-06-22T19:21:41.783932Z",
     "shell.execute_reply": "2021-06-22T19:21:41.783477Z",
     "shell.execute_reply.started": "2021-06-22T18:44:12.032523Z"
    },
    "papermill": {
     "duration": 0.104548,
     "end_time": "2021-06-22T19:21:41.784098",
     "exception": false,
     "start_time": "2021-06-22T19:21:41.679550",
     "status": "completed"
    },
    "tags": []
   },
   "outputs": [
    {
     "name": "stdout",
     "output_type": "stream",
     "text": [
      "Confusion Matrix :- \n",
      "[[138  13]\n",
      " [ 14  66]]\n",
      "\n",
      "Classification Report :- \n",
      "               precision    recall  f1-score   support\n",
      "\n",
      "           0       0.91      0.91      0.91       151\n",
      "           1       0.84      0.82      0.83        80\n",
      "\n",
      "    accuracy                           0.88       231\n",
      "   macro avg       0.87      0.87      0.87       231\n",
      "weighted avg       0.88      0.88      0.88       231\n",
      "\n"
     ]
    }
   ],
   "source": [
    "print(f\"Confusion Matrix :- \\n{confusion_matrix(y_test, xgb_preds)}\\n\")\n",
    "print(f\"Classification Report :- \\n {classification_report(y_test, xgb_preds)}\")"
   ]
  },
  {
   "cell_type": "markdown",
   "id": "about-stuart",
   "metadata": {
    "papermill": {
     "duration": 0.089954,
     "end_time": "2021-06-22T19:21:41.965890",
     "exception": false,
     "start_time": "2021-06-22T19:21:41.875936",
     "status": "completed"
    },
    "tags": []
   },
   "source": [
    "<h1 style=\"font-family: 'Poppins', sans-serif; font-size: 20px; text-align: left; color: #oa2239; background-color: #C0FDFB; padding: 15px; border-radius: 40px\">Voting Classifier</h1>"
   ]
  },
  {
   "cell_type": "code",
   "execution_count": 57,
   "id": "through-regard",
   "metadata": {
    "execution": {
     "iopub.execute_input": "2021-06-22T19:21:42.153397Z",
     "iopub.status.busy": "2021-06-22T19:21:42.152724Z",
     "iopub.status.idle": "2021-06-22T19:21:42.155825Z",
     "shell.execute_reply": "2021-06-22T19:21:42.155338Z",
     "shell.execute_reply.started": "2021-06-22T18:44:12.050086Z"
    },
    "papermill": {
     "duration": 0.098898,
     "end_time": "2021-06-22T19:21:42.155957",
     "exception": false,
     "start_time": "2021-06-22T19:21:42.057059",
     "status": "completed"
    },
    "tags": []
   },
   "outputs": [],
   "source": [
    "from sklearn.ensemble import VotingClassifier\n",
    "\n",
    "classifiers = [('XGboost', xgb), ('Random Forest', rfc), \n",
    "               ('Logistic', logmodel), ('KNN', knn), ('SVM', svc_model)]"
   ]
  },
  {
   "cell_type": "code",
   "execution_count": 58,
   "id": "removed-jason",
   "metadata": {
    "execution": {
     "iopub.execute_input": "2021-06-22T19:21:42.347280Z",
     "iopub.status.busy": "2021-06-22T19:21:42.346708Z",
     "iopub.status.idle": "2021-06-22T19:21:42.348416Z",
     "shell.execute_reply": "2021-06-22T19:21:42.348820Z",
     "shell.execute_reply.started": "2021-06-22T18:44:12.056309Z"
    },
    "papermill": {
     "duration": 0.100147,
     "end_time": "2021-06-22T19:21:42.348988",
     "exception": false,
     "start_time": "2021-06-22T19:21:42.248841",
     "status": "completed"
    },
    "tags": []
   },
   "outputs": [],
   "source": [
    "vc = VotingClassifier(estimators = classifiers)"
   ]
  },
  {
   "cell_type": "code",
   "execution_count": 59,
   "id": "impaired-making",
   "metadata": {
    "execution": {
     "iopub.execute_input": "2021-06-22T19:21:42.536009Z",
     "iopub.status.busy": "2021-06-22T19:21:42.535400Z",
     "iopub.status.idle": "2021-06-22T19:21:43.165900Z",
     "shell.execute_reply": "2021-06-22T19:21:43.167111Z",
     "shell.execute_reply.started": "2021-06-22T18:44:12.068519Z"
    },
    "papermill": {
     "duration": 0.7262,
     "end_time": "2021-06-22T19:21:43.167349",
     "exception": false,
     "start_time": "2021-06-22T19:21:42.441149",
     "status": "completed"
    },
    "tags": []
   },
   "outputs": [
    {
     "name": "stdout",
     "output_type": "stream",
     "text": [
      "[19:21:42] WARNING: ../src/learner.cc:1095: Starting in XGBoost 1.3.0, the default evaluation metric used with the objective 'binary:logistic' was changed from 'error' to 'logloss'. Explicitly set eval_metric if you'd like to restore the old behavior.\n"
     ]
    },
    {
     "data": {
      "text/plain": [
       "VotingClassifier(estimators=[('XGboost',\n",
       "                              XGBClassifier(base_score=0.5, booster='gbtree',\n",
       "                                            colsample_bylevel=1,\n",
       "                                            colsample_bynode=1,\n",
       "                                            colsample_bytree=1, gamma=0,\n",
       "                                            gpu_id=-1, importance_type='gain',\n",
       "                                            interaction_constraints='',\n",
       "                                            learning_rate=0.1, max_delta_step=0,\n",
       "                                            max_depth=5, min_child_weight=1,\n",
       "                                            missing=nan,\n",
       "                                            monotone_constraints='()',\n",
       "                                            n_estimators=180, n_jobs=4,\n",
       "                                            num_parallel_tree=1, random_state=0,\n",
       "                                            reg_alpha=0, reg_lambda=1,\n",
       "                                            scale_pos_weight=1, subsample=1,\n",
       "                                            tree_method='exact',\n",
       "                                            validate_parameters=1,\n",
       "                                            verbosity=None)),\n",
       "                             ('Random Forest',\n",
       "                              RandomForestClassifier(n_estimators=200)),\n",
       "                             ('Logistic', LogisticRegression(max_iter=200)),\n",
       "                             ('KNN', KNeighborsClassifier(n_neighbors=4)),\n",
       "                             ('SVM', SVC())])"
      ]
     },
     "execution_count": 59,
     "metadata": {},
     "output_type": "execute_result"
    }
   ],
   "source": [
    "vc.fit(X_train, y_train)"
   ]
  },
  {
   "cell_type": "code",
   "execution_count": 60,
   "id": "sorted-custody",
   "metadata": {
    "execution": {
     "iopub.execute_input": "2021-06-22T19:21:43.391169Z",
     "iopub.status.busy": "2021-06-22T19:21:43.380592Z",
     "iopub.status.idle": "2021-06-22T19:21:43.457525Z",
     "shell.execute_reply": "2021-06-22T19:21:43.458356Z",
     "shell.execute_reply.started": "2021-06-22T18:44:12.754632Z"
    },
    "papermill": {
     "duration": 0.174749,
     "end_time": "2021-06-22T19:21:43.458614",
     "exception": false,
     "start_time": "2021-06-22T19:21:43.283865",
     "status": "completed"
    },
    "tags": []
   },
   "outputs": [],
   "source": [
    "vc_preds = vc.predict(X_test)"
   ]
  },
  {
   "cell_type": "code",
   "execution_count": 61,
   "id": "caroline-praise",
   "metadata": {
    "execution": {
     "iopub.execute_input": "2021-06-22T19:21:43.733260Z",
     "iopub.status.busy": "2021-06-22T19:21:43.732687Z",
     "iopub.status.idle": "2021-06-22T19:21:43.741548Z",
     "shell.execute_reply": "2021-06-22T19:21:43.740919Z",
     "shell.execute_reply.started": "2021-06-22T18:44:12.867527Z"
    },
    "papermill": {
     "duration": 0.105866,
     "end_time": "2021-06-22T19:21:43.741679",
     "exception": false,
     "start_time": "2021-06-22T19:21:43.635813",
     "status": "completed"
    },
    "tags": []
   },
   "outputs": [
    {
     "name": "stdout",
     "output_type": "stream",
     "text": [
      "Confusion Matrix :- \n",
      "[[124  27]\n",
      " [ 15  65]]\n",
      "\n",
      "Classification Report :- \n",
      "               precision    recall  f1-score   support\n",
      "\n",
      "           0       0.89      0.82      0.86       151\n",
      "           1       0.71      0.81      0.76        80\n",
      "\n",
      "    accuracy                           0.82       231\n",
      "   macro avg       0.80      0.82      0.81       231\n",
      "weighted avg       0.83      0.82      0.82       231\n",
      "\n"
     ]
    }
   ],
   "source": [
    "print(f\"Confusion Matrix :- \\n{confusion_matrix(y_test, vc_preds)}\\n\")\n",
    "print(f\"Classification Report :- \\n {classification_report(y_test, vc_preds)}\")"
   ]
  },
  {
   "cell_type": "markdown",
   "id": "collaborative-flesh",
   "metadata": {
    "papermill": {
     "duration": 0.093288,
     "end_time": "2021-06-22T19:21:43.928090",
     "exception": false,
     "start_time": "2021-06-22T19:21:43.834802",
     "status": "completed"
    },
    "tags": []
   },
   "source": [
    "<a id=\"section5\"></a>\n",
    "<h1 style=\"font-family: 'Poppins', sans-serif; font-size: 28px; text-align: left; color: #176087; background-color: #FDF0D5; padding: 25px; border-radius: 10px;\">4. Results</h1>"
   ]
  },
  {
   "cell_type": "code",
   "execution_count": 62,
   "id": "offensive-weather",
   "metadata": {
    "execution": {
     "iopub.execute_input": "2021-06-22T19:21:44.119603Z",
     "iopub.status.busy": "2021-06-22T19:21:44.119010Z",
     "iopub.status.idle": "2021-06-22T19:21:44.132720Z",
     "shell.execute_reply": "2021-06-22T19:21:44.133618Z",
     "shell.execute_reply.started": "2021-06-22T18:55:13.278528Z"
    },
    "papermill": {
     "duration": 0.111451,
     "end_time": "2021-06-22T19:21:44.133915",
     "exception": false,
     "start_time": "2021-06-22T19:21:44.022464",
     "status": "completed"
    },
    "tags": []
   },
   "outputs": [
    {
     "name": "stdout",
     "output_type": "stream",
     "text": [
      "The accuracy score of Logistic Regression Model is:  77.05627705627705 %\n",
      "The accuracy score of K Nearest Neighbors Model is:  75.32467532467533 %\n",
      "The accuracy score of Random Forests Model is:  85.28138528138528 %\n",
      "The accuracy score of SVM Model is:  77.48917748917748 %\n",
      "The accuracy score of XG Boost  is:  88.31168831168831 %\n",
      "The accuracy score of Voting Classifer  is:  81.81818181818183 %\n"
     ]
    }
   ],
   "source": [
    "print('The accuracy score of Logistic Regression Model is: ', accuracy_score(y_test, prediction1)*100,'%')\n",
    "print('The accuracy score of K Nearest Neighbors Model is: ', accuracy_score(y_test, prediction2)*100,'%')\n",
    "print('The accuracy score of Random Forests Model is: ', accuracy_score(y_test, prediction3)*100,'%')\n",
    "print('The accuracy score of SVM Model is: ', accuracy_score(y_test, rndm_preds)*100,'%')\n",
    "print('The accuracy score of XG Boost  is: ', accuracy_score(y_test, xgb_preds)*100,'%')\n",
    "print('The accuracy score of Voting Classifer  is: ', accuracy_score(y_test, vc_preds)*100,'%')"
   ]
  },
  {
   "cell_type": "code",
   "execution_count": 63,
   "id": "statutory-telescope",
   "metadata": {
    "execution": {
     "iopub.execute_input": "2021-06-22T19:21:44.320917Z",
     "iopub.status.busy": "2021-06-22T19:21:44.320386Z",
     "iopub.status.idle": "2021-06-22T19:21:44.326363Z",
     "shell.execute_reply": "2021-06-22T19:21:44.326829Z",
     "shell.execute_reply.started": "2021-06-22T19:04:43.233189Z"
    },
    "papermill": {
     "duration": 0.099813,
     "end_time": "2021-06-22T19:21:44.327004",
     "exception": false,
     "start_time": "2021-06-22T19:21:44.227191",
     "status": "completed"
    },
    "tags": []
   },
   "outputs": [],
   "source": [
    "lr_acc = accuracy_score(y_test, prediction1)\n",
    "knn_acc = accuracy_score(y_test, prediction2)\n",
    "rfc_acc = accuracy_score(y_test, prediction3)\n",
    "SVM_acc = accuracy_score(y_test, rndm_preds)\n",
    "xgb_acc = accuracy_score(y_test, xgb_preds)\n",
    "vc_acc = accuracy_score(y_test, vc_preds)"
   ]
  },
  {
   "cell_type": "code",
   "execution_count": 64,
   "id": "reasonable-lottery",
   "metadata": {
    "execution": {
     "iopub.execute_input": "2021-06-22T19:21:44.513104Z",
     "iopub.status.busy": "2021-06-22T19:21:44.512507Z",
     "iopub.status.idle": "2021-06-22T19:21:44.515951Z",
     "shell.execute_reply": "2021-06-22T19:21:44.516488Z",
     "shell.execute_reply.started": "2021-06-22T19:04:44.594617Z"
    },
    "papermill": {
     "duration": 0.098663,
     "end_time": "2021-06-22T19:21:44.516646",
     "exception": false,
     "start_time": "2021-06-22T19:21:44.417983",
     "status": "completed"
    },
    "tags": []
   },
   "outputs": [],
   "source": [
    "model = ['Logistic Regression', 'K Nearest Neighbors', 'Random Forests', 'Support Vector Machines',\n",
    "         'XGBoost', 'Voting Classifier']\n",
    "score = [lr_acc, knn_acc, rfc_acc, SVM_acc, xgb_acc, vc_acc]"
   ]
  },
  {
   "cell_type": "code",
   "execution_count": 65,
   "id": "violent-volume",
   "metadata": {
    "execution": {
     "iopub.execute_input": "2021-06-22T19:21:44.702535Z",
     "iopub.status.busy": "2021-06-22T19:21:44.701628Z",
     "iopub.status.idle": "2021-06-22T19:21:44.853578Z",
     "shell.execute_reply": "2021-06-22T19:21:44.854091Z",
     "shell.execute_reply.started": "2021-06-22T19:05:05.424309Z"
    },
    "papermill": {
     "duration": 0.245089,
     "end_time": "2021-06-22T19:21:44.854263",
     "exception": false,
     "start_time": "2021-06-22T19:21:44.609174",
     "status": "completed"
    },
    "tags": []
   },
   "outputs": [
    {
     "data": {
      "image/png": "[encoded data removed]",
      "text/plain": [
       "<Figure size 864x432 with 1 Axes>"
      ]
     },
     "metadata": {
      "needs_background": "light"
     },
     "output_type": "display_data"
    }
   ],
   "source": [
    "plt.figure(figsize = (12, 6))\n",
    "sns.barplot(x = score, y = model, palette = 'magma')\n",
    "plt.show()"
   ]
  },
  {
   "cell_type": "markdown",
   "id": "cardiovascular-japan",
   "metadata": {
    "papermill": {
     "duration": 0.092847,
     "end_time": "2021-06-22T19:21:45.040405",
     "exception": false,
     "start_time": "2021-06-22T19:21:44.947558",
     "status": "completed"
    },
    "tags": []
   },
   "source": [
    "<h1 style=\"font-family: 'Poppins', sans-serif; font-size: 24px; text-align: center; color: #fff; background-color: #1D84B5; padding: 15px; border-radius: 40px\">XG Boost performed the best with accuracy of 88.3%</h1>\n",
    "<h1 style=\"font-family: 'Poppins', sans-serif; font-size: 16px; text-align: center; color: #000\";>Random Forests is just behind with accuracy of 86.14%</h1>"
   ]
  },
  {
   "cell_type": "markdown",
   "id": "sharing-collapse",
   "metadata": {
    "papermill": {
     "duration": 0.092738,
     "end_time": "2021-06-22T19:21:45.226731",
     "exception": false,
     "start_time": "2021-06-22T19:21:45.133993",
     "status": "completed"
    },
    "tags": []
   },
   "source": [
    "<h1 style=\"font-family: 'Poppins', sans-serif; font-size: 32px; text-align: center; color: #fff; background-color: #000; padding: 15px; border-radius: 5px\">Please give your valuable feedbacks and if you like the notebook do UPVOTE!!</h1>"
   ]
  }
 ],
 "metadata": {
  "kernelspec": {
   "display_name": "Python 3",
   "language": "python",
   "name": "python3"
  },
  "language_info": {
   "codemirror_mode": {
    "name": "ipython",
    "version": 3
   },
   "file_extension": ".py",
   "mimetype": "text/x-python",
   "name": "python",
   "nbconvert_exporter": "python",
   "pygments_lexer": "ipython3",
   "version": "3.7.10"
  },
  "papermill": {
   "default_parameters": {},
   "duration": 139.042294,
   "end_time": "2021-06-22T19:21:46.873822",
   "environment_variables": {},
   "exception": null,
   "input_path": "__notebook__.ipynb",
   "output_path": "__notebook__.ipynb",
   "parameters": {},
   "start_time": "2021-06-22T19:19:27.831528",
   "version": "2.3.3"
  }
 },
 "nbformat": 4,
 "nbformat_minor": 5
}
